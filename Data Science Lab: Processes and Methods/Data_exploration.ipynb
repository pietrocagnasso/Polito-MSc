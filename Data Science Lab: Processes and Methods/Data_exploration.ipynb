{
 "cells": [
  {
   "cell_type": "code",
   "execution_count": null,
   "metadata": {
    "id": "3vykeW78Fqpx"
   },
   "outputs": [],
   "source": [
    "import pandas as pd\n",
    "import seaborn as sns\n",
    "from matplotlib import pyplot as plt"
   ]
  },
  {
   "cell_type": "code",
   "execution_count": null,
   "metadata": {
    "id": "AhEe9CWnG5bF"
   },
   "outputs": [],
   "source": [
    "%matplotlib inline"
   ]
  },
  {
   "cell_type": "code",
   "execution_count": null,
   "metadata": {
    "id": "T-oD0YisIL06"
   },
   "outputs": [],
   "source": [
    "sns.set()\n",
    "sns.set_style(style=\"whitegrid\")\n",
    "sns.set_color_codes(\"colorblind\")"
   ]
  },
  {
   "cell_type": "code",
   "execution_count": null,
   "metadata": {
    "id": "af3dE96RG86q"
   },
   "outputs": [],
   "source": [
    "dev = pd.read_csv(\"/content/drive/MyDrive/Colab Notebooks/DSL/development.csv\")\n",
    "eval = pd.read_csv(\"/content/drive/MyDrive/Colab Notebooks/DSL/evaluation.csv\")"
   ]
  },
  {
   "cell_type": "code",
   "execution_count": null,
   "metadata": {
    "id": "nAoOPzBaHZop"
   },
   "outputs": [],
   "source": [
    "dev[\"set\"] = \"dev\"\n",
    "eval[\"set\"] = \"test\"\n",
    "\n",
    "# create a combined dataset for easier comparison plots\n",
    "ds = pd.concat([dev, eval], ignore_index=True)"
   ]
  },
  {
   "cell_type": "code",
   "execution_count": null,
   "metadata": {
    "id": "BVC97zvMP8AU"
   },
   "outputs": [],
   "source": [
    "d = ds[\"set\"] == \"dev\"\n",
    "e = ds[\"set\"] == \"test\""
   ]
  },
  {
   "cell_type": "code",
   "execution_count": null,
   "metadata": {
    "colab": {
     "base_uri": "https://localhost:8080/",
     "height": 344
    },
    "id": "PWaelmWCISca",
    "outputId": "a50f5a81-3088-4def-c957-93e4d6699722"
   },
   "outputs": [],
   "source": [
    "ds.head(3)"
   ]
  },
  {
   "cell_type": "code",
   "execution_count": null,
   "metadata": {
    "id": "2Gk6bPQWIi97"
   },
   "outputs": [],
   "source": [
    "ds[\"sentiment_lbl\"] = ds[\"sentiment\"].apply(lambda n: \"positive\" if n == 1.0 else \"negative\")\n",
    "ds[\"date\"] = ds[\"date\"].apply(lambda s: pd.to_datetime(s.replace(\" PDT\", \"\")))\n",
    "ds[\"weekday\"] = ds[\"date\"].apply(lambda t: t.weekday())\n",
    "ds[\"hour\"] = ds[\"date\"].apply(lambda t: t.hour)\n",
    "ds[\"timestamp\"] = ds[\"date\"].apply(lambda t: t.timestamp())"
   ]
  },
  {
   "cell_type": "code",
   "execution_count": null,
   "metadata": {
    "id": "qKZcQ3XzKrFj"
   },
   "outputs": [],
   "source": [
    "ds.to_csv(\"/content/drive/MyDrive/Colab Notebooks/DSL/dev_and_eval.csv\",\n",
    "          index=False)"
   ]
  },
  {
   "cell_type": "markdown",
   "metadata": {
    "id": "MHfjd3NmMq8S"
   },
   "source": [
    "# General Inspection"
   ]
  },
  {
   "cell_type": "code",
   "execution_count": null,
   "metadata": {
    "colab": {
     "base_uri": "https://localhost:8080/"
    },
    "id": "F2PGh3UWMs3K",
    "outputId": "792b0b11-5ada-4d6d-c4b1-0c119d4ad3e7"
   },
   "outputs": [],
   "source": [
    "dev.shape, eval.shape"
   ]
  },
  {
   "cell_type": "markdown",
   "metadata": {
    "id": "uROxitZkNUyk"
   },
   "source": [
    "Null values."
   ]
  },
  {
   "cell_type": "code",
   "execution_count": null,
   "metadata": {
    "colab": {
     "base_uri": "https://localhost:8080/"
    },
    "id": "tm0JwAIwMzTb",
    "outputId": "70b2cab6-9474-460e-af6b-3165496bafa0"
   },
   "outputs": [],
   "source": [
    "dev.isna().sum(axis=0)"
   ]
  },
  {
   "cell_type": "code",
   "execution_count": null,
   "metadata": {
    "colab": {
     "base_uri": "https://localhost:8080/"
    },
    "id": "AbUbDmlcNGXu",
    "outputId": "277b692e-4c06-4d59-b50e-7031060d16f1"
   },
   "outputs": [],
   "source": [
    "eval.isna().sum(axis=0)"
   ]
  },
  {
   "cell_type": "markdown",
   "metadata": {
    "id": "_aDx_aXKNX5e"
   },
   "source": [
    "Unique entries."
   ]
  },
  {
   "cell_type": "code",
   "execution_count": null,
   "metadata": {
    "colab": {
     "base_uri": "https://localhost:8080/"
    },
    "id": "hTB7MJcONISc",
    "outputId": "cc8c5428-e75c-4acd-c82e-0616bf32eba3"
   },
   "outputs": [],
   "source": [
    "dev.nunique()"
   ]
  },
  {
   "cell_type": "code",
   "execution_count": null,
   "metadata": {
    "colab": {
     "base_uri": "https://localhost:8080/"
    },
    "id": "IhtNpf2WNM5A",
    "outputId": "e1e99fb2-2c84-4ec4-d61c-db6631f96249"
   },
   "outputs": [],
   "source": [
    "eval.nunique()"
   ]
  },
  {
   "cell_type": "code",
   "execution_count": null,
   "metadata": {
    "colab": {
     "base_uri": "https://localhost:8080/",
     "height": 206
    },
    "id": "B6TxC6OwOI0m",
    "outputId": "503c46cd-a3ea-483f-f819-d99dcc548639"
   },
   "outputs": [],
   "source": [
    "ds.corr()"
   ]
  },
  {
   "cell_type": "markdown",
   "metadata": {
    "id": "6WY_Jk5iNfDa"
   },
   "source": [
    "# By feature inspection\n",
    "## Sentiment"
   ]
  },
  {
   "cell_type": "code",
   "execution_count": null,
   "metadata": {
    "colab": {
     "base_uri": "https://localhost:8080/"
    },
    "id": "UlUfID1iNQJ4",
    "outputId": "25753f32-8bea-4393-e554-a04b42963e77"
   },
   "outputs": [],
   "source": [
    "dev[\"sentiment\"].value_counts()"
   ]
  },
  {
   "cell_type": "markdown",
   "metadata": {
    "id": "OXW1oiT4NznC"
   },
   "source": [
    "## Ids"
   ]
  },
  {
   "cell_type": "code",
   "execution_count": null,
   "metadata": {
    "colab": {
     "base_uri": "https://localhost:8080/"
    },
    "id": "TChmR2dTNs1P",
    "outputId": "902d7b9c-1048-4ad9-a682-311675472bbe"
   },
   "outputs": [],
   "source": [
    "dev[\"ids\"].min(), dev[\"ids\"].max()"
   ]
  },
  {
   "cell_type": "code",
   "execution_count": null,
   "metadata": {
    "colab": {
     "base_uri": "https://localhost:8080/"
    },
    "id": "sDp0a3S_N68I",
    "outputId": "9ffb111d-44db-4a4e-be0e-4246dabef4b7"
   },
   "outputs": [],
   "source": [
    "eval[\"ids\"].min(), eval[\"ids\"].max()"
   ]
  },
  {
   "cell_type": "code",
   "execution_count": null,
   "metadata": {
    "colab": {
     "base_uri": "https://localhost:8080/",
     "height": 303
    },
    "id": "SX7Vng4AN-6f",
    "outputId": "62cfcb18-ab9b-49a6-dcf7-b0ad1ad26505"
   },
   "outputs": [],
   "source": [
    "sns.histplot(data=ds, x=\"ids\", hue=\"set\", bins=50, element=\"step\",\n",
    "             stat=\"proportion\", common_norm=False)\n",
    "plt.plot()"
   ]
  },
  {
   "cell_type": "code",
   "execution_count": null,
   "metadata": {
    "colab": {
     "base_uri": "https://localhost:8080/",
     "height": 303
    },
    "id": "BxPP1m4vPE8Y",
    "outputId": "676df073-2d4c-4066-8cf1-c4fc476da82e"
   },
   "outputs": [],
   "source": [
    "sns.histplot(data=ds.loc[d], x=\"ids\", hue=\"sentiment_lbl\", bins=50, element=\"step\",\n",
    "             stat=\"proportion\", common_norm=False)\n",
    "plt.plot()"
   ]
  },
  {
   "cell_type": "markdown",
   "metadata": {
    "id": "p5rryaVOPBZm"
   },
   "source": [
    "## Date"
   ]
  },
  {
   "cell_type": "code",
   "execution_count": null,
   "metadata": {
    "colab": {
     "base_uri": "https://localhost:8080/"
    },
    "id": "1gffHdOvO3io",
    "outputId": "e40f3950-e68b-421a-d649-e8e3750c925d"
   },
   "outputs": [],
   "source": [
    "ds.loc[d, \"date\"].min(), ds.loc[d, \"date\"].max()"
   ]
  },
  {
   "cell_type": "code",
   "execution_count": null,
   "metadata": {
    "colab": {
     "base_uri": "https://localhost:8080/"
    },
    "id": "lm5pSGlYPr1Q",
    "outputId": "a8a7e2e4-90a1-4daf-9f8b-218ce0868ea6"
   },
   "outputs": [],
   "source": [
    "ds.loc[e, \"date\"].min(), ds.loc[e, \"date\"].max()"
   ]
  },
  {
   "cell_type": "code",
   "execution_count": null,
   "metadata": {
    "colab": {
     "base_uri": "https://localhost:8080/",
     "height": 303
    },
    "id": "ssfz5eRGQLh8",
    "outputId": "e64d6bfc-7f88-4090-e245-88e41486fbd5"
   },
   "outputs": [],
   "source": [
    "sns.histplot(data=ds, x=\"date\", hue=\"set\", bins=50, element=\"step\",\n",
    "             stat=\"proportion\", common_norm=False)\n",
    "plt.plot()"
   ]
  },
  {
   "cell_type": "code",
   "execution_count": null,
   "metadata": {
    "colab": {
     "base_uri": "https://localhost:8080/",
     "height": 303
    },
    "id": "7p5smsHgQe4e",
    "outputId": "aa71b2c0-ad84-40de-803a-505921e74496"
   },
   "outputs": [],
   "source": [
    "sns.histplot(data=ds.loc[d], x=\"date\", hue=\"sentiment_lbl\", bins=50, element=\"step\",\n",
    "             stat=\"proportion\", common_norm=False)\n",
    "plt.plot()"
   ]
  },
  {
   "cell_type": "markdown",
   "metadata": {
    "id": "eU7_Hfp3Qwcd"
   },
   "source": [
    "As expected the timestamp and the id have similare distribution, that is likely to be because the ids are assigned sequentially."
   ]
  },
  {
   "cell_type": "code",
   "execution_count": null,
   "metadata": {
    "colab": {
     "base_uri": "https://localhost:8080/",
     "height": 303
    },
    "id": "CzoZbnRfSEEd",
    "outputId": "67663683-bf1d-4fbd-c676-0104d675b699"
   },
   "outputs": [],
   "source": [
    "sns.histplot(data=ds, x=\"weekday\", hue=\"set\", bins=7, element=\"step\",\n",
    "             stat=\"proportion\", common_norm=False)\n",
    "plt.plot()"
   ]
  },
  {
   "cell_type": "code",
   "execution_count": null,
   "metadata": {
    "colab": {
     "base_uri": "https://localhost:8080/",
     "height": 303
    },
    "id": "k8A9KIuCQpRB",
    "outputId": "e40ddd74-7b5e-4212-c42a-bcc326808847"
   },
   "outputs": [],
   "source": [
    "sns.histplot(data=ds.loc[d], x=\"weekday\", hue=\"sentiment_lbl\", bins=7, element=\"step\",\n",
    "             stat=\"proportion\", common_norm=False)\n",
    "plt.plot()"
   ]
  },
  {
   "cell_type": "code",
   "execution_count": null,
   "metadata": {
    "colab": {
     "base_uri": "https://localhost:8080/",
     "height": 303
    },
    "id": "I-og5fWnR-Xk",
    "outputId": "91c79eca-ae77-4b8b-b7c5-6b7ac2c1b7ef"
   },
   "outputs": [],
   "source": [
    "sns.histplot(data=ds, x=\"hour\", hue=\"set\", bins=24, element=\"step\",\n",
    "             stat=\"proportion\", common_norm=False)\n",
    "plt.plot()"
   ]
  },
  {
   "cell_type": "code",
   "execution_count": null,
   "metadata": {
    "colab": {
     "base_uri": "https://localhost:8080/",
     "height": 303
    },
    "id": "TDzB3-WcSZZz",
    "outputId": "e9b11e87-51fb-4d62-d9d0-54d0cbe7dc29"
   },
   "outputs": [],
   "source": [
    "sns.histplot(data=ds.loc[d], x=\"hour\", hue=\"sentiment_lbl\", bins=7, element=\"step\",\n",
    "             stat=\"proportion\", common_norm=False)\n",
    "plt.plot()"
   ]
  },
  {
   "cell_type": "markdown",
   "metadata": {
    "id": "yonwi_-_SuIC"
   },
   "source": [
    "## User"
   ]
  },
  {
   "cell_type": "code",
   "execution_count": null,
   "metadata": {
    "colab": {
     "base_uri": "https://localhost:8080/"
    },
    "id": "u0P-mDMCSdT8",
    "outputId": "3f665180-d934-4230-e15f-af462fac1b09"
   },
   "outputs": [],
   "source": [
    "train_users = dev[\"user\"].drop_duplicates().sort_values().reset_index()[\"user\"]\n",
    "test_users = eval[\"user\"].drop_duplicates().sort_values().reset_index()[\"user\"]\n",
    "\n",
    "train_users.equals(test_users)"
   ]
  },
  {
   "cell_type": "code",
   "execution_count": null,
   "metadata": {
    "colab": {
     "base_uri": "https://localhost:8080/"
    },
    "id": "youYTWETS58O",
    "outputId": "ec7050df-b6e6-4d86-a8aa-e63356b263b8"
   },
   "outputs": [],
   "source": [
    "dev[\"user\"].value_counts().mean(), dev[\"user\"].value_counts().std()"
   ]
  },
  {
   "cell_type": "code",
   "execution_count": null,
   "metadata": {
    "colab": {
     "base_uri": "https://localhost:8080/"
    },
    "id": "vmTg7_hdUTDL",
    "outputId": "44aacb7b-fd7b-4111-a40e-c50691ebefc6"
   },
   "outputs": [],
   "source": [
    "eval[\"user\"].value_counts().mean(), eval[\"user\"].value_counts().std()"
   ]
  }
 ],
 "metadata": {
  "colab": {
   "collapsed_sections": [],
   "provenance": []
  },
  "kernelspec": {
   "display_name": "Python 3",
   "language": "python",
   "name": "python3"
  },
  "language_info": {
   "codemirror_mode": {
    "name": "ipython",
    "version": 3
   },
   "file_extension": ".py",
   "mimetype": "text/x-python",
   "name": "python",
   "nbconvert_exporter": "python",
   "pygments_lexer": "ipython3",
   "version": "3.8.8"
  }
 },
 "nbformat": 4,
 "nbformat_minor": 1
}
