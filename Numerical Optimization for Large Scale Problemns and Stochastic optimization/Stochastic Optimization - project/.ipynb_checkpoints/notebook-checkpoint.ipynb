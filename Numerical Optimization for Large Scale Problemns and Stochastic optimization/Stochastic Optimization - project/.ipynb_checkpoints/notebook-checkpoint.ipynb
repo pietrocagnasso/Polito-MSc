{
 "cells": [
  {
   "cell_type": "code",
   "execution_count": 1,
   "metadata": {},
   "outputs": [],
   "source": [
    "import pandas as pd\n",
    "import numpy as np\n",
    "import matplotlib.pyplot as plt\n",
    "import seaborn as sns\n",
    "\n",
    "from sklearn.preprocessing import MinMaxScaler\n",
    "from sklearn.metrics import mean_squared_error\n",
    "from sklearn.metrics import mean_absolute_error"
   ]
  },
  {
   "cell_type": "code",
   "execution_count": 2,
   "metadata": {},
   "outputs": [],
   "source": [
    "sns.set()\n",
    "sns.set_style(style=\"whitegrid\")\n",
    "sns.set_color_codes(\"colorblind\")"
   ]
  },
  {
   "cell_type": "markdown",
   "metadata": {},
   "source": [
    "# Simulation"
   ]
  },
  {
   "cell_type": "code",
   "execution_count": 3,
   "metadata": {},
   "outputs": [],
   "source": [
    "N_DAYS = 60\n",
    "N_SIM = 1000\n",
    "\n",
    "N_PEOPLE = 1000\n",
    "S0 = 999\n",
    "I0 = 1\n",
    "\n",
    "HEALTH_COST = 1"
   ]
  },
  {
   "cell_type": "code",
   "execution_count": 4,
   "metadata": {},
   "outputs": [],
   "source": [
    "# This function implements Eq. 2\n",
    "def simulate_new_day(S, I, p, N, approx):\n",
    "    Inew = np.random.binomial(S, 1 - (1-p)**I, N)  # generates N results from the given binomial\n",
    "    Inew = approx(Inew.mean())  # gets the mean of the N simulations\n",
    "\n",
    "    Snew = S - Inew\n",
    "\n",
    "    return Inew, Snew"
   ]
  },
  {
   "cell_type": "code",
   "execution_count": 5,
   "metadata": {},
   "outputs": [],
   "source": [
    "data = []\n",
    "cost = []\n",
    "\n",
    "np.random.seed(42)  # setting the seed we can repeat the experiment obtaining the same results each time\n",
    "\n",
    "for p in np.linspace(0.0005, 0.003, 11):\n",
    "    data.append([0, I0, \"infected\", p])\n",
    "    data.append([0, S0, \"susceptible\", p])\n",
    "    data.append([0, N_PEOPLE - I0 - S0, \"removed\", p])  # number of removed, implements Eq. 1\n",
    "\n",
    "    Iold = I0\n",
    "    Sold = S0\n",
    "\n",
    "    c_economy = (0.003 / p)**9 - 1  # cost on the economy, implements Eq. 3\n",
    "    c_health = I0 * HEALTH_COST  # cost on health system for the first day\n",
    "\n",
    "    for day in range(N_DAYS-1):\n",
    "        Inew, Snew = simulate_new_day(Sold, Iold, p, N_SIM, lambda x: round(x))\n",
    "\n",
    "        c_health += Inew * HEALTH_COST  # health cost of the day\n",
    "\n",
    "        data.append([day+1, Inew, \"infected\", p])\n",
    "        data.append([day+1, Snew, \"susceptible\", p])\n",
    "        data.append([day+1, N_PEOPLE - Inew - Snew, \"removed\", p])\n",
    "\n",
    "        Iold = Inew\n",
    "        Sold = Snew\n",
    "\n",
    "    cost.append([(c_economy + c_health) / N_DAYS, p])  # add the average overall cost over the 60 days\n",
    "            # implements Eq. 4\n",
    "\n",
    "data = pd.DataFrame(data, columns=[\"Day\", \"n\", \"Class\", \"p\"])\n",
    "cost = pd.DataFrame(cost, columns=[\"Cost per day\", \"p\"])"
   ]
  },
  {
   "cell_type": "code",
   "execution_count": 6,
   "metadata": {},
   "outputs": [
    {
     "data": {
      "text/html": [
       "<div>\n",
       "<style scoped>\n",
       "    .dataframe tbody tr th:only-of-type {\n",
       "        vertical-align: middle;\n",
       "    }\n",
       "\n",
       "    .dataframe tbody tr th {\n",
       "        vertical-align: top;\n",
       "    }\n",
       "\n",
       "    .dataframe thead th {\n",
       "        text-align: right;\n",
       "    }\n",
       "</style>\n",
       "<table border=\"1\" class=\"dataframe\">\n",
       "  <thead>\n",
       "    <tr style=\"text-align: right;\">\n",
       "      <th></th>\n",
       "      <th>Day</th>\n",
       "      <th>n</th>\n",
       "      <th>Class</th>\n",
       "      <th>p</th>\n",
       "    </tr>\n",
       "  </thead>\n",
       "  <tbody>\n",
       "    <tr>\n",
       "      <th>0</th>\n",
       "      <td>0</td>\n",
       "      <td>1</td>\n",
       "      <td>infected</td>\n",
       "      <td>0.0005</td>\n",
       "    </tr>\n",
       "    <tr>\n",
       "      <th>1</th>\n",
       "      <td>0</td>\n",
       "      <td>999</td>\n",
       "      <td>susceptible</td>\n",
       "      <td>0.0005</td>\n",
       "    </tr>\n",
       "    <tr>\n",
       "      <th>2</th>\n",
       "      <td>0</td>\n",
       "      <td>0</td>\n",
       "      <td>removed</td>\n",
       "      <td>0.0005</td>\n",
       "    </tr>\n",
       "    <tr>\n",
       "      <th>3</th>\n",
       "      <td>1</td>\n",
       "      <td>0</td>\n",
       "      <td>infected</td>\n",
       "      <td>0.0005</td>\n",
       "    </tr>\n",
       "    <tr>\n",
       "      <th>4</th>\n",
       "      <td>1</td>\n",
       "      <td>999</td>\n",
       "      <td>susceptible</td>\n",
       "      <td>0.0005</td>\n",
       "    </tr>\n",
       "    <tr>\n",
       "      <th>5</th>\n",
       "      <td>1</td>\n",
       "      <td>1</td>\n",
       "      <td>removed</td>\n",
       "      <td>0.0005</td>\n",
       "    </tr>\n",
       "  </tbody>\n",
       "</table>\n",
       "</div>"
      ],
      "text/plain": [
       "   Day    n        Class       p\n",
       "0    0    1     infected  0.0005\n",
       "1    0  999  susceptible  0.0005\n",
       "2    0    0      removed  0.0005\n",
       "3    1    0     infected  0.0005\n",
       "4    1  999  susceptible  0.0005\n",
       "5    1    1      removed  0.0005"
      ]
     },
     "execution_count": 6,
     "metadata": {},
     "output_type": "execute_result"
    }
   ],
   "source": [
    "data.head(6)"
   ]
  },
  {
   "cell_type": "markdown",
   "metadata": {},
   "source": [
    "### Visual representations"
   ]
  },
  {
   "cell_type": "code",
   "execution_count": null,
   "metadata": {},
   "outputs": [],
   "source": [
    "# Fig. 1\n",
    "fig, ax = plt.subplots(3, 1, figsize=(7, 18))\n",
    "ax[0].set_title(\"p=0.003\")\n",
    "sns.lineplot(data=data[data[\"p\"]==0.003], x=\"Day\", y=\"n\", hue=\"Class\", ax=ax[0])\n",
    "ax[1].set_title(\"p=0.0015\")\n",
    "sns.lineplot(data=data[data[\"p\"]==0.0015], x=\"Day\", y=\"n\", hue=\"Class\", ax=ax[1])\n",
    "ax[2].set_title(\"p=0.0005\")\n",
    "sns.lineplot(data=data[data[\"p\"]==0.0005], x=\"Day\", y=\"n\", hue=\"Class\", ax=ax[2])\n",
    "\n",
    "plt.plot()\n",
    "plt.savefig(\"./img/infection_trend.pdf\", bbox_inches='tight')"
   ]
  },
  {
   "cell_type": "code",
   "execution_count": null,
   "metadata": {},
   "outputs": [],
   "source": [
    "# Fig. 2\n",
    "fig, ax = plt.subplots(2, 1, figsize=(7, 10))\n",
    "sns.scatterplot(data=cost, x=\"p\", y=\"Cost per day\", ax=ax[0])\n",
    "sns.scatterplot(data=cost[cost[\"p\"]>=0.0015], x=\"p\", y=\"Cost per day\", ax=ax[1])\n",
    "\n",
    "plt.plot()\n",
    "plt.savefig(\"./img/cost_by_p.pdf\", bbox_inches=\"tight\")"
   ]
  },
  {
   "cell_type": "markdown",
   "metadata": {},
   "source": [
    "# Neural network function fitting"
   ]
  },
  {
   "cell_type": "code",
   "execution_count": 9,
   "metadata": {},
   "outputs": [],
   "source": [
    "cost_of_interest = cost[cost[\"p\"]>=0.00125].copy(deep=True)\n",
    "\n",
    "cost_of_interest.index = [i for i in range(len(cost_of_interest))]"
   ]
  },
  {
   "cell_type": "code",
   "execution_count": 10,
   "metadata": {},
   "outputs": [],
   "source": [
    "class NN:\n",
    "    def __init__(self, **kwargs):\n",
    "        self.hidden_nodes = kwargs[\"hn\"]\n",
    "        self.bias_in_bound = kwargs[\"bib\"]\n",
    "        self.bias_hidden_bound = kwargs[\"bhb\"]\n",
    "        self.w_bound = kwargs[\"wb\"]\n",
    "        self.k_bound = kwargs[\"kb\"]\n",
    "        self.tol = kwargs[\"tol\"]\n",
    "        self.learning_rate = kwargs[\"lr\"]\n",
    "        self.max_epochs = kwargs[\"me\"]\n",
    "        \n",
    "        self.Xscaler, self.yscaler = MinMaxScaler(kwargs[\"sri\"]), MinMaxScaler(kwargs[\"sro\"])\n",
    "\n",
    "        self.W, self.What, self.K, self.Khat = None, None, None, None\n",
    "        self.Bi, self.Bh = None, None\n",
    "        \n",
    "        self.loss = []\n",
    "\n",
    "    def fit(self, X, y):\n",
    "        X = self.Xscaler.fit_transform(X)\n",
    "        Xhat = np.hstack((X, np.ones((X.shape[0], 1))))\n",
    "        y = self.yscaler.fit_transform(y)\n",
    "        \n",
    "        self.Bi = np.random.uniform(0, self.bias_in_bound, size=(1, self.hidden_nodes))\n",
    "        self.Bh = np.random.uniform(0, self.bias_hidden_bound, size=(1, y.shape[1]))\n",
    "\n",
    "        self.W = np.random.uniform(0, self.w_bound, size=(Xhat.shape[1]-1, self.hidden_nodes))\n",
    "        self.What = np.vstack((self.W, self.Bi))  # implements Eq. 8\n",
    "        self.K = np.random.uniform(0, self.k_bound, size=(self.hidden_nodes, y.shape[1]))\n",
    "        self.Khat = np.vstack((self.K, self.Bh))  # implements Eq. 11\n",
    "\n",
    "        SSEold = 100\n",
    "        epoch = 0\n",
    "        flag = True\n",
    "\n",
    "        while flag and epoch < self.max_epochs:\n",
    "            epoch += 1\n",
    "\n",
    "            Vstar = Xhat @ self.What  # implements Eq. 9\n",
    "            V = self.__activate(Vstar)\n",
    "            Vhat = np.hstack((V, np.ones((V.shape[0], 1))))  # implements Eq. 10\n",
    "\n",
    "            O = Vhat @ self.Khat  # implements Eq. 12\n",
    "\n",
    "            e = y - O\n",
    "\n",
    "            dW = Xhat.T @ (((e * 1) @ self.Khat.T) * self.__deactivate(Vhat))  # implements Eq. 13\n",
    "            dWstar = dW[:, :-1]\n",
    "            self.What += 2 * self.learning_rate(epoch) * dWstar  # implements Eq. 14\n",
    "\n",
    "            dK = Vhat.T @ (e * 1)  # implements Eq. 15\n",
    "            self.Khat += 2 * self.learning_rate(epoch) * dK  # implements Eq. 16\n",
    "\n",
    "            SSEnew = np.sum(e**2)\n",
    "            self.loss.append(SSEnew)\n",
    "            if np.abs(SSEnew - SSEold) < self.tol:\n",
    "                flag = False\n",
    "            else:\n",
    "                SSEold = SSEnew\n",
    "        \n",
    "    def predict(self, X):\n",
    "        X = self.Xscaler.transform(X)\n",
    "        Xhat = np.hstack((X, np.ones((X.shape[0], 1))))\n",
    "\n",
    "        Vstar = Xhat @ self.What\n",
    "        V = self.__activate(Vstar)\n",
    "        Vhat = np.hstack((V, np.ones((V.shape[0], 1))))\n",
    "\n",
    "        O = Vhat @ self.Khat\n",
    "\n",
    "        return self.yscaler.inverse_transform(O)\n",
    "\n",
    "    @staticmethod\n",
    "    def __activate(u):\n",
    "        return 1 / (1 + np.exp(-4 * u))  # implements Eq. 5\n",
    "\n",
    "    @staticmethod\n",
    "    def __deactivate(u):\n",
    "        return 4 * u * (1 - u)  # derivative of Eq. 5"
   ]
  },
  {
   "cell_type": "code",
   "execution_count": 11,
   "metadata": {},
   "outputs": [],
   "source": [
    "# TABLE I\n",
    "params = {\n",
    "    \"hn\": 5,\n",
    "    \"bib\": .5,\n",
    "    \"bhb\": .5,\n",
    "    \"wb\": .3,\n",
    "    \"kb\": .3,\n",
    "    \"tol\": 1e-8,\n",
    "    \"lr\": lambda t: 1e-4*np.sqrt(t),  # implements Eq. 6\n",
    "    \"me\": 1000000,\n",
    "    \"sri\": (-2, 2),\n",
    "    \"sro\": (0, 1)\n",
    "}"
   ]
  },
  {
   "cell_type": "code",
   "execution_count": 12,
   "metadata": {},
   "outputs": [],
   "source": [
    "nn = NN(**params)\n",
    "np.random.seed(42)\n",
    "nn.fit(np.array(cost_of_interest[\"p\"]).reshape(-1, 1), np.array(cost_of_interest[\"Cost per day\"]).reshape(-1, 1))\n",
    "\n",
    "y_hat = nn.predict(np.linspace(0.00125, 0.003, 10001).reshape(-1, 1))"
   ]
  },
  {
   "cell_type": "code",
   "execution_count": 13,
   "metadata": {},
   "outputs": [
    {
     "data": {
      "image/png": "[encoded data removed]",
      "text/plain": [
       "<Figure size 504x360 with 1 Axes>"
      ]
     },
     "metadata": {},
     "output_type": "display_data"
    }
   ],
   "source": [
    "fig, ax = plt.subplots(figsize=(7, 5))\n",
    "ax.plot(nn.loss)\n",
    "ax.set_xlabel(\"Epoch\")\n",
    "ax.set_ylabel(\"Loss\")\n",
    "\n",
    "plt.plot()\n",
    "plt.savefig(\"./img/loss.pdf\", bbox_inches=\"tight\")"
   ]
  },
  {
   "cell_type": "code",
   "execution_count": 14,
   "metadata": {},
   "outputs": [],
   "source": [
    "pred = np.hstack((y_hat, np.linspace(0.00125, 0.003, 10001).reshape(-1, 1)))\n",
    "costs = pd.DataFrame(pred, columns=[\"Cost per day\", \"p\"])\n",
    "costs[\"Class\"] = \"predicted\""
   ]
  },
  {
   "cell_type": "code",
   "execution_count": 15,
   "metadata": {},
   "outputs": [],
   "source": [
    "sim = []\n",
    "\n",
    "for p in np.linspace(0.00125, 0.003, 10001):\n",
    "\n",
    "    Iold = I0\n",
    "    Sold = S0\n",
    "\n",
    "    c_economy = (0.003 / p)**9 - 1  # containment cost, implements Eq. 3\n",
    "    c_health = Iold * HEALTH_COST  # cost for health on the first day\n",
    "\n",
    "    for day in range(N_DAYS-1):\n",
    "        Inew, Snew = simulate_new_day(Sold, Iold, p, 10000, lambda x: x)\n",
    "\n",
    "        c_health += Inew * HEALTH_COST  # health cost of the day\n",
    "\n",
    "        Iold = Inew\n",
    "        Sold = Snew\n",
    "\n",
    "    sim.append([(c_economy + c_health) / N_DAYS, p])\n",
    "\n",
    "simulation = pd.DataFrame(sim, columns=[\"Cost per day\", \"p\"])\n",
    "simulation[\"Class\"] = \"simulated\"\n",
    "\n",
    "costs = costs.append(simulation, ignore_index=True)"
   ]
  },
  {
   "cell_type": "code",
   "execution_count": null,
   "metadata": {},
   "outputs": [],
   "source": [
    "# Fig. 4\n",
    "fig, ax = plt.subplots(figsize=(7, 5))\n",
    "sns.lineplot(data=costs[costs[\"Class\"]==\"predicted\"], x=\"p\", y=\"Cost per day\", ax=ax)\n",
    "sns.scatterplot(data=cost_of_interest, x=\"p\", y=\"Cost per day\", ax=ax)\n",
    "ax.set_xlabel(\"p\")\n",
    "ax.set_ylabel(\"Cost per day\")\n",
    "\n",
    "plt.plot()\n",
    "plt.savefig(\"./img/nn_output.pdf\", bbox_inches=\"tight\")"
   ]
  },
  {
   "cell_type": "code",
   "execution_count": null,
   "metadata": {},
   "outputs": [],
   "source": [
    "# Fig. 6\n",
    "fig, ax = plt.subplots(2, 1, figsize=(7, 10))\n",
    "sns.lineplot(data=costs, x=\"p\", y=\"Cost per day\", hue=\"Class\", ax=ax[0])\n",
    "sns.lineplot(data=costs, x=\"p\", y=\"Cost per day\", hue=\"Class\", ax=ax[1])\n",
    "ax[1].scatter(np.linspace(0.00125, 0.003, 10001)[np.argmin(costs.loc[costs[\"Class\"]==\"predicted\", \"Cost per day\"])], np.min(costs.loc[costs[\"Class\"]==\"predicted\", \"Cost per day\"]))\n",
    "ax[1].scatter(np.linspace(0.00125, 0.003, 10001)[np.argmin(costs.loc[costs[\"Class\"]==\"simulated\", \"Cost per day\"])], np.min(costs.loc[costs[\"Class\"]==\"simulated\", \"Cost per day\"]))\n",
    "ax[1].set_xlim(0.00175, 0.00195)\n",
    "ax[1].set_ylim(13.5, 14.25)\n",
    "\n",
    "plt.plot()\n",
    "plt.savefig(\"./img/pred_vs_sim.pdf\", bbox_inches=\"tight\")"
   ]
  },
  {
   "cell_type": "code",
   "execution_count": 18,
   "metadata": {},
   "outputs": [
    {
     "data": {
      "text/plain": [
       "0.41806568059576626"
      ]
     },
     "execution_count": 18,
     "metadata": {},
     "output_type": "execute_result"
    }
   ],
   "source": [
    "mean_squared_error(costs.loc[costs[\"Class\"]==\"simulated\", \"Cost per day\"], costs.loc[costs[\"Class\"]==\"predicted\", \"Cost per day\"])"
   ]
  },
  {
   "cell_type": "code",
   "execution_count": 19,
   "metadata": {},
   "outputs": [
    {
     "data": {
      "text/plain": [
       "0.25455970598382643"
      ]
     },
     "execution_count": 19,
     "metadata": {},
     "output_type": "execute_result"
    }
   ],
   "source": [
    "mean_absolute_error(costs.loc[costs[\"Class\"]==\"simulated\", \"Cost per day\"], costs.loc[costs[\"Class\"]==\"predicted\", \"Cost per day\"])"
   ]
  },
  {
   "cell_type": "markdown",
   "metadata": {},
   "source": [
    "# Minima"
   ]
  },
  {
   "cell_type": "code",
   "execution_count": 20,
   "metadata": {},
   "outputs": [
    {
     "data": {
      "text/plain": [
       "(0.001849725, 13.698125361362978)"
      ]
     },
     "execution_count": 20,
     "metadata": {},
     "output_type": "execute_result"
    }
   ],
   "source": [
    "(np.linspace(0.00125, 0.003, 10001)[np.argmin(costs.loc[costs[\"Class\"]==\"predicted\", \"Cost per day\"])], np.min(costs.loc[costs[\"Class\"]==\"predicted\", \"Cost per day\"]))"
   ]
  },
  {
   "cell_type": "code",
   "execution_count": 21,
   "metadata": {},
   "outputs": [
    {
     "data": {
      "text/plain": [
       "(0.001871425, 13.774568732649845)"
      ]
     },
     "execution_count": 21,
     "metadata": {},
     "output_type": "execute_result"
    }
   ],
   "source": [
    "np.linspace(0.00125, 0.003, 10001)[np.argmin(costs.loc[costs[\"Class\"]==\"simulated\", \"Cost per day\"])], np.min(costs.loc[costs[\"Class\"]==\"simulated\", \"Cost per day\"])"
   ]
  },
  {
   "cell_type": "markdown",
   "metadata": {},
   "source": [
    "### Using the slope"
   ]
  },
  {
   "cell_type": "code",
   "execution_count": 22,
   "metadata": {},
   "outputs": [],
   "source": [
    "c = costs.loc[costs[\"Class\"]==\"predicted\", \"Cost per day\"].to_numpy()\n",
    "dy = np.zeros(len(c)-1)\n",
    "for i in range(len(c)-1):\n",
    "    dy[i] = c[i+1] - c[i]\n",
    "    \n",
    "dx = (0.003 - 0.00125) / 10001"
   ]
  },
  {
   "cell_type": "code",
   "execution_count": 23,
   "metadata": {},
   "outputs": [],
   "source": [
    "dc = dy / dx\n",
    "\n",
    "dc = np.append(dc, dc[-1])"
   ]
  },
  {
   "cell_type": "code",
   "execution_count": null,
   "metadata": {},
   "outputs": [],
   "source": [
    "# Fig. 5\n",
    "fig, ax = plt.subplots(2, 1, figsize=(7, 10))\n",
    "ax[0].plot(np.linspace(0.00125, 0.003, 10001), dc)\n",
    "ax[0].set_ylabel(\"slope Cost per day\")\n",
    "ax[0].set_xlabel(\"p\")\n",
    "ax[1].scatter(np.linspace(0.00125, 0.003, 10001), dc)\n",
    "ax[1].plot(np.linspace(0.00125, 0.003, 10001), dc)\n",
    "ax[1].set_ylabel(\"slope Cost per day\")\n",
    "ax[1].set_xlabel(\"p\")\n",
    "ax[1].set_xlim(0.0018490, 0.0018500)\n",
    "ax[1].set_ylim(-10, 10)\n",
    "\n",
    "plt.plot()\n",
    "plt.savefig(\"./img/derivative.pdf\", bbox_inches=\"tight\")"
   ]
  },
  {
   "cell_type": "code",
   "execution_count": 25,
   "metadata": {},
   "outputs": [
    {
     "name": "stdout",
     "output_type": "stream",
     "text": [
      "0.0018495500000000002 0.001849725\n",
      "0.0018496261455238075\n"
     ]
    }
   ],
   "source": [
    "xi, xj = np.linspace(0.00125, 0.003, 10001)[np.argmin(np.abs(dc))], np.linspace(0.00125, 0.003, 10001)[np.argmin(np.abs(dc))+1]\n",
    "yi, yj = dc[np.argmin(np.abs(dc))], dc[np.argmin(np.abs(dc))+1]\n",
    "\n",
    "print(xi, xj)\n",
    "\n",
    "m = (yj-yi)/(xj-xi)\n",
    "q = yi - m*xi\n",
    "print(-q/m)"
   ]
  },
  {
   "cell_type": "code",
   "execution_count": 26,
   "metadata": {},
   "outputs": [
    {
     "data": {
      "text/plain": [
       "array([[13.69812546]])"
      ]
     },
     "execution_count": 26,
     "metadata": {},
     "output_type": "execute_result"
    }
   ],
   "source": [
    "nn.predict(np.array([[-q/m]]))"
   ]
  }
 ],
 "metadata": {
  "interpreter": {
   "hash": "398efd5d1c3c9910d3549ea3480f8b52e14e21a74285e5c36a71e20978ada50e"
  },
  "kernelspec": {
   "display_name": "Python 3",
   "language": "python",
   "name": "python3"
  },
  "language_info": {
   "codemirror_mode": {
    "name": "ipython",
    "version": 3
   },
   "file_extension": ".py",
   "mimetype": "text/x-python",
   "name": "python",
   "nbconvert_exporter": "python",
   "pygments_lexer": "ipython3",
   "version": "3.8.8"
  }
 },
 "nbformat": 4,
 "nbformat_minor": 2
}
