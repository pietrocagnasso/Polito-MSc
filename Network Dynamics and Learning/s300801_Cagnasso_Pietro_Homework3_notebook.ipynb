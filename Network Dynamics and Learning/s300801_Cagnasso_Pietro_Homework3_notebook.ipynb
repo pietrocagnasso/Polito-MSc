{
  "cells": [
    {
      "cell_type": "markdown",
      "metadata": {
        "id": "-Dz-76AhC-AK"
      },
      "source": [
        "# Homework 3"
      ]
    },
    {
      "cell_type": "code",
      "execution_count": 1,
      "metadata": {
        "colab": {
          "base_uri": "https://localhost:8080/"
        },
        "id": "VpntkfZZeG1-",
        "outputId": "3e03bb45-a050-45e4-e5f3-1d36499b21cf"
      },
      "outputs": [
        {
          "name": "stdout",
          "output_type": "stream",
          "text": [
            "Looking in indexes: https://pypi.org/simple, https://us-python.pkg.dev/colab-wheels/public/simple/\n",
            "Collecting networkx==2.6.3\n",
            "  Downloading networkx-2.6.3-py3-none-any.whl (1.9 MB)\n",
            "\u001b[2K     \u001b[90m━━━━━━━━━━━━━━━━━━━━━━━━━━━━━━━━━━━━━━━━\u001b[0m \u001b[32m1.9/1.9 MB\u001b[0m \u001b[31m21.5 MB/s\u001b[0m eta \u001b[36m0:00:00\u001b[0m\n",
            "\u001b[?25hInstalling collected packages: networkx\n",
            "  Attempting uninstall: networkx\n",
            "    Found existing installation: networkx 2.8.8\n",
            "    Uninstalling networkx-2.8.8:\n",
            "      Successfully uninstalled networkx-2.8.8\n",
            "Successfully installed networkx-2.6.3\n"
          ]
        }
      ],
      "source": [
        "!pip install networkx==2.6.3"
      ]
    },
    {
      "cell_type": "code",
      "execution_count": 2,
      "metadata": {
        "id": "aNwFACn__2si"
      },
      "outputs": [],
      "source": [
        "import networkx as nx\n",
        "import numpy as np\n",
        "from copy import deepcopy\n",
        "import matplotlib.pyplot as plt\n",
        "import seaborn as sns\n",
        "from sklearn.model_selection import ParameterGrid\n",
        "from tqdm import tqdm\n",
        "\n",
        "sns.set()\n",
        "sns.set_style(style=\"whitegrid\")\n",
        "sns.set_color_codes(\"colorblind\")\n",
        "\n",
        "SEED = 0"
      ]
    },
    {
      "cell_type": "code",
      "execution_count": 3,
      "metadata": {
        "colab": {
          "base_uri": "https://localhost:8080/"
        },
        "id": "bfe4FYR2y46K",
        "outputId": "c3c502f8-f490-4c6d-9acf-9c329a52b9fb"
      },
      "outputs": [
        {
          "name": "stdout",
          "output_type": "stream",
          "text": [
            "/content/drive/MyDrive/Colab Notebooks/Network Dynamics and Learning/H3\n"
          ]
        }
      ],
      "source": [
        "%cd /content/drive/MyDrive/Colab Notebooks/Network Dynamics and Learning/H3"
      ]
    },
    {
      "cell_type": "markdown",
      "metadata": {
        "id": "9xUmTNI7laL1"
      },
      "source": [
        "# H1N1 epidemics"
      ]
    },
    {
      "cell_type": "markdown",
      "metadata": {
        "id": "7x2WwBfCa5x-"
      },
      "source": [
        "## Problem 1.1"
      ]
    },
    {
      "cell_type": "code",
      "execution_count": 4,
      "metadata": {
        "id": "69S5ecwDa4Qt"
      },
      "outputs": [],
      "source": [
        "def symmetric_k_regular_graph(n_nodes, k):\n",
        "    \"\"\"\n",
        "    This function defines a symmetric `k`-regular undirected graph with `n_nodes`\n",
        "    nodes with `k` neighbors each.\n",
        "\n",
        "    n_nodes:    number of nodes in the graph\n",
        "    k:  number of neighbors for each node\n",
        "    \"\"\"\n",
        "\n",
        "    # the base for this graph is a cycle\n",
        "    G = nx.cycle_graph(n_nodes)\n",
        "\n",
        "    # for each node add the edges that do not compose the main cycle\n",
        "    for n in G.nodes():\n",
        "        for ki in range(2, int(k / 2) + 1):\n",
        "            G.add_edge(n,((n + ki) % n_nodes))\n",
        "            G.add_edge(n,((n - ki) % n_nodes))\n",
        "\n",
        "    return G"
      ]
    },
    {
      "cell_type": "code",
      "execution_count": null,
      "metadata": {
        "colab": {
          "base_uri": "https://localhost:8080/",
          "height": 248
        },
        "id": "1Bpyo2JmbTRK",
        "outputId": "41140878-ea7d-49d8-f580-bf7d715b13f0"
      },
      "outputs": [],
      "source": [
        "G = symmetric_k_regular_graph(n_nodes=12, k=4)\n",
        "\n",
        "pos = nx.circular_layout(G)\n",
        "nx.draw_networkx_nodes(G, pos, linewidths=3, edgecolors=\"#000000\")\n",
        "nx.draw(G, pos, node_color=\"#ffffff\", with_labels=True)\n",
        "\n",
        "plt.savefig(\"./p1_1_graph.pdf\", bbox_inches=\"tight\")"
      ]
    },
    {
      "cell_type": "code",
      "execution_count": 6,
      "metadata": {
        "id": "H_dWKXmGe1ym"
      },
      "outputs": [],
      "source": [
        "def simulate_SIR(G, n_simulations, weeks, n_init_infected, beta, rho, conditions, seed=None):\n",
        "    \"\"\"\n",
        "    This function simulates the evolution of a SIR epidemics over a finite number\n",
        "    of weeks on the social network defined by the graph.\n",
        "\n",
        "    G:  graph that defines the social network over which the epidemics happen\n",
        "    n_simultaions:  number of simulations\n",
        "    weeks:  number of weeks over which the epidemics happen\n",
        "    n_init_infected:    number of infection in the week 0\n",
        "    beta:   infection ratio\n",
        "    rho:    recovery rate\n",
        "    conditions: the dictionary with association between states and a number\n",
        "    seed:   to set a seed for reproducibility reasons\n",
        "    \"\"\"\n",
        "\n",
        "    global S, I, R\n",
        "\n",
        "    # matrix containing the new infected by week and simulation\n",
        "    new_infected = np.zeros((n_simulations, weeks+1))\n",
        "    # matrix containing the amount of susceptible, infected, recovered by week\n",
        "    # and simultaion\n",
        "    sir_results = np.zeros((n_simulations, len(conditions), weeks+1))\n",
        "\n",
        "    # reproducibility\n",
        "    if seed is not None:\n",
        "        np.random.seed(seed)\n",
        "    \n",
        "    # run the simulations\n",
        "    for n in range(n_simulations):\n",
        "        # initialize the states\n",
        "        X = np.array([S] * len(G.nodes()))\n",
        "        new_infected[n, 0] = n_init_infected\n",
        "        sir_results[n, :, 0] = [len(G.nodes())-n_init_infected, n_init_infected, 0]\n",
        "\n",
        "        # select n_init_infected nodes to be the first infected\n",
        "        init_infected = np.random.choice(G.nodes(), n_init_infected, replace=False)\n",
        "        # set the state in for these nodes as infected\n",
        "        X[init_infected] = I\n",
        "\n",
        "        # run for all the weeks\n",
        "        for week in range(1, weeks+1):\n",
        "            # counter of the infected for the week\n",
        "            infected = 0\n",
        "\n",
        "            # a copy of the state to be modified\n",
        "            X_new = deepcopy(X)\n",
        "\n",
        "            for node in G.nodes():\n",
        "                # if the node is suceptible\n",
        "                if X[node] == S:\n",
        "                    # get the neighbors\n",
        "                    neighs = list(G.neighbors(node))\n",
        "                    # count infected neighbors\n",
        "                    m = sum(X[neighs] == I)\n",
        "                    # compute probability of being infected given the number of\n",
        "                    # infected neighbors\n",
        "                    P_of_I = 1 - (1 - beta)**m\n",
        "                \n",
        "                    if np.random.rand() < P_of_I:\n",
        "                        # the infection happened\n",
        "                        infected += 1\n",
        "                        X_new[node] = I\n",
        "\n",
        "                # if the node is infected\n",
        "                if X[node] == I:\n",
        "                    if np.random.rand() < rho:\n",
        "                        # the recovery happened\n",
        "                        X_new[node] = R\n",
        "\n",
        "            # update the states\n",
        "            new_infected[n][week] = infected\n",
        "            sir_results[n, :, week] = [sum(np.array(X_new)==S),\n",
        "                                       sum(np.array(X_new)==I),\n",
        "                                       sum(np.array(X_new)==R)]\n",
        "            X = X_new\n",
        "\n",
        "    return sir_results, new_infected"
      ]
    },
    {
      "cell_type": "code",
      "execution_count": 7,
      "metadata": {
        "id": "2u4blbdgc2Tk"
      },
      "outputs": [],
      "source": [
        "# define the graph on which we will work\n",
        "n_nodes = 500\n",
        "k = 4\n",
        "\n",
        "G = symmetric_k_regular_graph(n_nodes=n_nodes, k=k)\n",
        "\n",
        "# come constants\n",
        "S, I, R = 0, 1, 2\n",
        "conditions = {S: \"Susceptible\", I: \"Infected\", R: \"Recovered\"}"
      ]
    },
    {
      "cell_type": "code",
      "execution_count": null,
      "metadata": {
        "colab": {
          "base_uri": "https://localhost:8080/",
          "height": 355
        },
        "id": "yNj7mPhejAOz",
        "outputId": "66eb5d60-a391-444d-f5a4-2faf10af3eb5"
      },
      "outputs": [],
      "source": [
        "# simulate the infection\n",
        "sir_results, new_infected = simulate_SIR(G, n_simulations=100, weeks=15,\n",
        "                                         n_init_infected=10, beta=0.3, rho=0.7,\n",
        "                                         conditions=conditions, seed=SEED)\n",
        "\n",
        "# compute the average over the simulations\n",
        "avg_sir_results = np.array(sir_results).mean(axis=0)\n",
        "avg_new_infected = np.array(new_infected).mean(axis=0)\n",
        "\n",
        "# plot\n",
        "fig, ax = plt.subplots(1, 2, figsize=(12, 5))\n",
        "\n",
        "ax[0].set_title(\"SIR epidemics evolution\")\n",
        "for condition in range(3):\n",
        "    ax[0].plot(range(16), avg_sir_results[condition, :], label=conditions[condition])\n",
        "ax[0].legend()\n",
        "ax[0].set_xlabel(\"Week\")\n",
        "ax[0].set_ylabel(\"# people\")\n",
        "\n",
        "ax[1].set_title(\"New infections by week\")\n",
        "ax[1].plot(range(16), avg_new_infected)\n",
        "ax[1].set_xlabel(\"Week\")\n",
        "ax[1].set_ylabel(\"# new infected\")\n",
        "\n",
        "plt.savefig(\"./p1_1_sir_evolution.pdf\", bbox_inches=\"tight\")"
      ]
    },
    {
      "cell_type": "markdown",
      "metadata": {
        "id": "vEPwtn18zmpM"
      },
      "source": [
        "## Problem 1.2"
      ]
    },
    {
      "cell_type": "code",
      "execution_count": 9,
      "metadata": {
        "id": "s9dRpUWu0_Gu"
      },
      "outputs": [],
      "source": [
        "def pa_random_graph(n_nodes, k, seed=None):\n",
        "    \"\"\"\n",
        "    This function defines a random graph using the preferential attachment rule\n",
        "    starting from a complete graph with `k+1` nodes it adds `times` new nodes with\n",
        "    `k/2` edges each time. In this way the graph will have an average degree of `k`\n",
        "\n",
        "    k:  average graph degree, used also to define the starting complete graph\n",
        "    times:  number of nodes to be added\n",
        "    seed:   for reproducibility\n",
        "    \"\"\"\n",
        "\n",
        "    # define the base graph\n",
        "    G = nx.complete_graph(k + 1)\n",
        "\n",
        "    # comput the number of links for each new node\n",
        "    c = np.floor(k / 2)\n",
        "\n",
        "    # reproducibility\n",
        "    if seed is not None:\n",
        "        np.random.seed(seed)\n",
        "\n",
        "    # how many time the addition process should be executed\n",
        "    times = n_nodes - k - 1\n",
        "\n",
        "    # add a new node for times-1 times\n",
        "    for t in range(times):\n",
        "        # a copy of the graph to be modified\n",
        "        G_new = deepcopy(G)\n",
        "\n",
        "        # add the new node to the graph\n",
        "        new_node = len(G.nodes())\n",
        "        G_new.add_node(new_node)\n",
        "\n",
        "        # define the probabilities to be attached to each pre-existing node\n",
        "        p = np.array([G.degree[node] for node in G.nodes()]) / np.sum(np.array([G.degree[node] for node in G.nodes()]))\n",
        "\n",
        "        # add the c links\n",
        "        while G_new.degree[new_node] < c:\n",
        "            # select the node to which to attach\n",
        "            i = np.random.choice(G.nodes(), p=p)\n",
        "            # check that the link doesn't already exist\n",
        "            if i not in G_new.neighbors(new_node):\n",
        "                G_new.add_edge(new_node, i)\n",
        "\n",
        "        # update of the graph\n",
        "        G = G_new\n",
        "\n",
        "        # in case the average degree is odd we need to add/subtract 1 to keep\n",
        "        # the average on that number\n",
        "        if k % 2 != 0:\n",
        "            c += (-1)**t\n",
        "\n",
        "    return G"
      ]
    },
    {
      "cell_type": "code",
      "execution_count": null,
      "metadata": {
        "colab": {
          "base_uri": "https://localhost:8080/",
          "height": 248
        },
        "id": "UjMg-2AI4aw2",
        "outputId": "ed0026f6-d968-4570-bd00-3536161d0e7d"
      },
      "outputs": [],
      "source": [
        "# example with small graph to be plotted\n",
        "G = pa_random_graph(n_nodes=12, k=5, seed=SEED)\n",
        "\n",
        "# plot\n",
        "pos = nx.circular_layout(G)\n",
        "nx.draw_networkx_nodes(G, pos, linewidths=3, edgecolors=\"#000000\")\n",
        "nx.draw(G, pos, node_color=\"#ffffff\", with_labels=True)\n",
        "\n",
        "plt.savefig(\"./p1_2_pa_random_graph.pdf\", bbox_inches=\"tight\")"
      ]
    },
    {
      "cell_type": "code",
      "execution_count": 11,
      "metadata": {
        "colab": {
          "base_uri": "https://localhost:8080/",
          "height": 337
        },
        "id": "TJdhh-fU4lwe",
        "outputId": "6f342aad-b88e-4e69-dc0d-29f81c863878"
      },
      "outputs": [
        {
          "name": "stdout",
          "output_type": "stream",
          "text": [
            "The average degree on the random graph generated with preferential attachment is 20.0.\n"
          ]
        },
        {
          "data": {
            "image/png": "[encoded data removed]",
            "text/plain": [
              "<Figure size 432x288 with 1 Axes>"
            ]
          },
          "metadata": {},
          "output_type": "display_data"
        }
      ],
      "source": [
        "# example with large graph\n",
        "G = pa_random_graph(n_nodes=900, k=20, seed=SEED)\n",
        "\n",
        "avg_degree = np.array([G.degree[n] for n in G.nodes()]).mean()\n",
        "print(f\"The average degree on the random graph generated with preferential attachment is {avg_degree}.\")\n",
        "\n",
        "pos = nx.spring_layout(G, seed=SEED)\n",
        "nx.draw(G, pos=pos, node_size=30, node_color='red')\n",
        "plt.savefig(\"./p1_2_pa_900.pdf\", bbox_inches=\"tight\")"
      ]
    },
    {
      "cell_type": "markdown",
      "metadata": {
        "id": "U8ZtGLsBAe7v"
      },
      "source": [
        "## Problem 2"
      ]
    },
    {
      "cell_type": "code",
      "execution_count": 12,
      "metadata": {
        "colab": {
          "base_uri": "https://localhost:8080/"
        },
        "id": "-NHFFA8jAH9l",
        "outputId": "f9fa9902-8fb1-4dbe-83f5-98acdc484fc4"
      },
      "outputs": [
        {
          "name": "stdout",
          "output_type": "stream",
          "text": [
            "The number of nodes in the graph is 500\n",
            "The average degree on the random graph generated with preferential attachment is 6.0.\n"
          ]
        }
      ],
      "source": [
        "# define the graph on which we will work\n",
        "n_nodes = 500\n",
        "k = 6\n",
        "\n",
        "G = pa_random_graph(n_nodes=500, k=k, seed=SEED)\n",
        "\n",
        "# come constants\n",
        "S, I, R = 0, 1, 2\n",
        "conditions = {S: \"Susceptible\", I: \"Infected\", R: \"Recovered\"}\n",
        "\n",
        "print(f\"The number of nodes in the graph is {len(G.nodes())}\")\n",
        "avg_degree = np.array([G.degree[n] for n in G.nodes()]).mean()\n",
        "print(f\"The average degree on the random graph generated with preferential attachment is {avg_degree}.\")"
      ]
    },
    {
      "cell_type": "code",
      "execution_count": null,
      "metadata": {
        "colab": {
          "base_uri": "https://localhost:8080/",
          "height": 355
        },
        "id": "TpUcsQHVBLOH",
        "outputId": "81be422a-5351-4016-a3f1-c5f60cd80101"
      },
      "outputs": [],
      "source": [
        "# simulate the infection\n",
        "sir_results, new_infected = simulate_SIR(G, n_simulations=100, weeks=15,\n",
        "                                         n_init_infected=10, beta=0.3, rho=0.7,\n",
        "                                         conditions=conditions, seed=SEED)\n",
        "\n",
        "# compute the average over the simulations\n",
        "avg_sir_results = np.array(sir_results).mean(axis=0)\n",
        "avg_new_infected = np.array(new_infected).mean(axis=0)\n",
        "\n",
        "# plot\n",
        "fig, ax = plt.subplots(1, 2, figsize=(12, 5))\n",
        "\n",
        "ax[0].set_title(\"SIR epidemics evolution\")\n",
        "for condition in range(3):\n",
        "    ax[0].plot(range(16), avg_sir_results[condition, :], label=conditions[condition])\n",
        "ax[0].legend()\n",
        "ax[0].set_xlabel(\"Week\")\n",
        "ax[0].set_ylabel(\"# people\")\n",
        "\n",
        "ax[1].set_title(\"New infections by week\")\n",
        "ax[1].plot(range(16), avg_new_infected)\n",
        "ax[1].set_xlabel(\"Week\")\n",
        "ax[1].set_ylabel(\"# new infected\")\n",
        "\n",
        "plt.savefig(\"./p2_sir_evolution.pdf\", bbox_inches=\"tight\")"
      ]
    },
    {
      "cell_type": "code",
      "execution_count": 14,
      "metadata": {
        "colab": {
          "base_uri": "https://localhost:8080/"
        },
        "id": "WxKAjA1zxaHH",
        "outputId": "1bddd22a-4b26-4279-ca99-e014726e8401"
      },
      "outputs": [
        {
          "name": "stdout",
          "output_type": "stream",
          "text": [
            "[[4.9000e+02 4.7183e+02 4.1390e+02 3.0957e+02 2.0577e+02 1.4249e+02\n",
            "  1.1229e+02 9.9380e+01 9.3730e+01 9.1470e+01 9.0490e+01 9.0040e+01\n",
            "  8.9820e+01 8.9700e+01 8.9650e+01 8.9630e+01]\n",
            " [1.0000e+01 2.1410e+01 6.4360e+01 1.2357e+02 1.4134e+02 1.0617e+02\n",
            "  6.1960e+01 3.1720e+01 1.4790e+01 6.8600e+00 2.8700e+00 1.2700e+00\n",
            "  6.3000e-01 3.0000e-01 1.5000e-01 6.0000e-02]\n",
            " [0.0000e+00 6.7600e+00 2.1740e+01 6.6860e+01 1.5289e+02 2.5134e+02\n",
            "  3.2575e+02 3.6890e+02 3.9148e+02 4.0167e+02 4.0664e+02 4.0869e+02\n",
            "  4.0955e+02 4.1000e+02 4.1020e+02 4.1031e+02]]\n",
            "[1.0000e+01 1.8170e+01 5.7930e+01 1.0433e+02 1.0380e+02 6.3280e+01\n",
            " 3.0200e+01 1.2910e+01 5.6500e+00 2.2600e+00 9.8000e-01 4.5000e-01\n",
            " 2.2000e-01 1.2000e-01 5.0000e-02 2.0000e-02]\n",
            "410.37\n"
          ]
        }
      ],
      "source": [
        "print(avg_sir_results)\n",
        "print(avg_new_infected)\n",
        "print(sum(avg_new_infected))"
      ]
    },
    {
      "cell_type": "markdown",
      "metadata": {
        "id": "a8m42iEREJFG"
      },
      "source": [
        "## Problem 3"
      ]
    },
    {
      "cell_type": "code",
      "execution_count": 15,
      "metadata": {
        "id": "CY_H4UcJBuyw"
      },
      "outputs": [],
      "source": [
        "def simulate_SIRV(G, n_simulations, weeks, n_init_infected, beta, rho, conditions, vacc_cum, seed=None):\n",
        "    \"\"\"\n",
        "    This function simulates the evolution of a SIR epidemics with vaccination over\n",
        "    a finite number of weeks on the social network defined by the graph.\n",
        "\n",
        "    G:  graph that defines the social network over which the epidemics happen\n",
        "    n_simultaions:  number of simulations\n",
        "    weeks:  number of weeks over which the epidemics happen\n",
        "    n_init_infected:    number of infection in the week 0\n",
        "    beta:   infection ratio\n",
        "    rho:    recovery rate\n",
        "    conditions: the dictionary with association between states and a number\n",
        "    vacc_cum:   vector with the cumulative proportion of population vaccinated\n",
        "                by week\n",
        "    seed:   to set a seed for reproducibility reasons\n",
        "    \"\"\"\n",
        "\n",
        "    global S, I, R, V\n",
        "\n",
        "    # matrix containing the new infected by week and simulation\n",
        "    new_infected = np.zeros((n_simulations, weeks+1))\n",
        "    # matrix containing the amount of susceptible, infected, recovered, vaccinated\n",
        "    # by week and simultaion\n",
        "    sirv_results = np.zeros((n_simulations, len(conditions), weeks+1))\n",
        "\n",
        "    # array with the porption of population vaccinated each week\n",
        "    new_vaccinated = (np.ediff1d(np.array(vacc_cum)) / 100 * len(G.nodes())).astype(int)\n",
        "\n",
        "    # reproducibility\n",
        "    if seed is not None:\n",
        "        np.random.seed(seed)\n",
        "    \n",
        "    # run the simulations\n",
        "    for n in range(n_simulations):\n",
        "        # initialize the states\n",
        "        X = np.array([S] * len(G.nodes()))\n",
        "        new_infected[n, 0] = n_init_infected\n",
        "        sirv_results[n, :, 0] = [len(G.nodes())-n_init_infected, n_init_infected, 0, 0]\n",
        "\n",
        "        # select n_init_infected nodes to be the first infected\n",
        "        init_infected = np.random.choice(G.nodes(), n_init_infected, replace=False)\n",
        "        # set the state in for these nodes as infected\n",
        "        X[init_infected] = I\n",
        "\n",
        "        # run for all the weeks\n",
        "        for week in range(1, weeks+1):\n",
        "            # counter of the infected for the week\n",
        "            infected = 0\n",
        "\n",
        "            # identify non vaccinated people\n",
        "            non_vaccinated_ix = np.argwhere(X != V).reshape((-1,))\n",
        "            # select the right amount of the to be vaccinated for the week\n",
        "            vaccinated = []\n",
        "            while len(vaccinated) < new_vaccinated[week]:\n",
        "                nv = np.random.choice(G.nodes())\n",
        "                if nv not in vaccinated and X[nv] != V:\n",
        "                    vaccinated.append(nv)\n",
        "            # vaccination\n",
        "            X[vaccinated] = V\n",
        "\n",
        "            # a copy of the state to be modified\n",
        "            X_new = deepcopy(X)\n",
        "\n",
        "            for node in G.nodes():\n",
        "                if X[node] != V:\n",
        "                    # if the node is suceptible\n",
        "                    if X[node] == S:\n",
        "                        # get the neighbors\n",
        "                        neighs = list(G.neighbors(node))\n",
        "                        # count infected neighbors that were not vaccinated in the current week\n",
        "                        contagious_neighs = (X[neighs] == I) & (X[neighs] != V)\n",
        "                        m = sum(contagious_neighs)\n",
        "                        # compute probability of being infected given the number of\n",
        "                        # infected neighbors\n",
        "                        P_of_I = 1 - (1 - beta)**m\n",
        "                    \n",
        "                        if np.random.choice([True, False], p=[P_of_I, 1-P_of_I]):\n",
        "                            # the infection happened\n",
        "                            infected += 1\n",
        "                            X_new[node] = I\n",
        "\n",
        "                    # if the node is infected\n",
        "                    if X[node] == I:\n",
        "                        if np.random.choice([True, False], p=[rho, 1-rho]):\n",
        "                            # the recovery happened\n",
        "                            X_new[node] = R\n",
        "\n",
        "            # update the states\n",
        "            new_infected[n][week] = infected\n",
        "            sirv_results[n, :, week] = [sum(np.array(X_new)==S),\n",
        "                                       sum(np.array(X_new)==I),\n",
        "                                       sum(np.array(X_new)==R),\n",
        "                                       sum(np.array(X_new)==V)]\n",
        "            X = X_new\n",
        "\n",
        "    return sirv_results, new_infected, new_vaccinated"
      ]
    },
    {
      "cell_type": "code",
      "execution_count": 16,
      "metadata": {
        "id": "OO2DRKa8GeNo"
      },
      "outputs": [],
      "source": [
        "# come constants\n",
        "S, I, R, V = 0, 1, 2, 3\n",
        "conditions = {S: \"Susceptible\", I: \"Infected\", R: \"Recovered\", V: \"Vaccinated\"}\n",
        "\n",
        "# define the graph on which we will work\n",
        "n_nodes = 500\n",
        "k = 6\n",
        "\n",
        "G = pa_random_graph(n_nodes=n_nodes, k=k, seed=SEED)"
      ]
    },
    {
      "cell_type": "code",
      "execution_count": null,
      "metadata": {
        "colab": {
          "base_uri": "https://localhost:8080/",
          "height": 373
        },
        "id": "-G4xXBuWKWBw",
        "outputId": "ee18d100-59ca-45d0-d963-62a230b1634e"
      },
      "outputs": [],
      "source": [
        "# simulate the infection\n",
        "vacc_cum = [0, 0, 5, 15, 25, 35, 45, 55, 60, 60, 60, 60, 60, 60, 60, 60, 60]\n",
        "sirv_results, new_infected, new_vaccinated = simulate_SIRV(G, n_simulations=100,\n",
        "                                                           weeks=15,\n",
        "                                                           n_init_infected=10,\n",
        "                                                           beta=0.3, rho=0.7,\n",
        "                                                           conditions=conditions,\n",
        "                                                           vacc_cum=vacc_cum,\n",
        "                                                           seed=SEED)\n",
        "\n",
        "# compute the average over the simulations\n",
        "avg_sirv_results = np.array(sirv_results).mean(axis=0)\n",
        "avg_new_infected = np.array(new_infected).mean(axis=0)\n",
        "\n",
        "# plot\n",
        "fig, ax = plt.subplots(1, 2, figsize=(12, 5))\n",
        "\n",
        "ax[0].set_title(\"SIRV epidemics evolution\")\n",
        "for condition in range(len(conditions)):\n",
        "    ax[0].plot(range(16), avg_sirv_results[condition, :], label=conditions[condition])\n",
        "ax[0].legend()\n",
        "ax[0].set_xlabel(\"Week\")\n",
        "ax[0].set_ylabel(\"# people\")\n",
        "\n",
        "ax[1].set_title(\"New infections & vaccinations by week\")\n",
        "ax[1].plot(range(16), avg_new_infected, label=\"New infected\")\n",
        "ax[1].plot(range(16), new_vaccinated, label=\"New vaccinated\")\n",
        "ax[1].legend()\n",
        "ax[1].set_xlabel(\"Week\")\n",
        "ax[1].set_ylabel(\"# people\")\n",
        "\n",
        "plt.savefig(\"./p3_sirv_evolution.pdf\", bbox_inches=\"tight\")"
      ]
    },
    {
      "cell_type": "code",
      "execution_count": 18,
      "metadata": {
        "colab": {
          "base_uri": "https://localhost:8080/"
        },
        "id": "s8AxwLskxQjB",
        "outputId": "fdab8eeb-3728-48ab-a6f0-e5def67d8ef4"
      },
      "outputs": [
        {
          "name": "stdout",
          "output_type": "stream",
          "text": [
            "[[4.9000e+02 4.5066e+02 3.6311e+02 2.6339e+02 1.8663e+02 1.3756e+02\n",
            "  1.0506e+02 9.0210e+01 8.8730e+01 8.8260e+01 8.8020e+01 8.7930e+01\n",
            "  8.7880e+01 8.7880e+01 8.7870e+01 8.7870e+01]\n",
            " [1.0000e+01 1.7730e+01 4.4840e+01 6.8770e+01 6.0300e+01 3.5100e+01\n",
            "  1.5720e+01 7.4500e+00 3.6900e+00 1.5900e+00 6.8000e-01 2.9000e-01\n",
            "  1.5000e-01 4.0000e-02 1.0000e-02 0.0000e+00]\n",
            " [0.0000e+00 6.6100e+00 1.7050e+01 4.2840e+01 7.8070e+01 1.0234e+02\n",
            "  1.0422e+02 1.0234e+02 1.0758e+02 1.1015e+02 1.1130e+02 1.1178e+02\n",
            "  1.1197e+02 1.1208e+02 1.1212e+02 1.1213e+02]\n",
            " [0.0000e+00 2.5000e+01 7.5000e+01 1.2500e+02 1.7500e+02 2.2500e+02\n",
            "  2.7500e+02 3.0000e+02 3.0000e+02 3.0000e+02 3.0000e+02 3.0000e+02\n",
            "  3.0000e+02 3.0000e+02 3.0000e+02 3.0000e+02]]\n",
            "[1.000e+01 1.492e+01 3.997e+01 5.670e+01 4.179e+01 2.044e+01 7.470e+00\n",
            " 3.110e+00 1.480e+00 4.700e-01 2.400e-01 9.000e-02 5.000e-02 0.000e+00\n",
            " 1.000e-02 0.000e+00]\n",
            "196.74\n"
          ]
        }
      ],
      "source": [
        "print(avg_sirv_results)\n",
        "print(avg_new_infected)\n",
        "print(sum(avg_new_infected))"
      ]
    },
    {
      "cell_type": "markdown",
      "metadata": {
        "id": "B0LqAefm7CRc"
      },
      "source": [
        "## Problem 4"
      ]
    },
    {
      "cell_type": "code",
      "execution_count": null,
      "metadata": {
        "id": "C9jsaM045-Xs"
      },
      "outputs": [],
      "source": [
        "def find_best_parameters(k0, dk, beta0, dbeta, rho0, drho, n_nodes, vacc_cum, target,\n",
        "                         alpha0=None, dalpha=None, seed=None, max_iter=100, max_reduction_steps=4):\n",
        "    \"\"\"\n",
        "    This function is used to find the best parameter set to approximate the infection\n",
        "    curve. It implements a simple search algorithm given the starting points and a\n",
        "    range for each of them:\n",
        "        Given (k0, dk, b0, db, r0, dr):\n",
        "        - compute the RMSE in the points defined by {k0-dk, k0, k0+dk},\n",
        "            {b0-db, b0, b0+db} and {r0-dr, r0, r0+dr}\n",
        "        - identify the triplet with lowest RMSE (k*, b*, r*)\n",
        "        - set k0=k*, b0=b* and r0=r*\n",
        "        - if for 2 consecutive time the chosen triplet is the same divide by 2\n",
        "            the value of dk, db and dr up to `max_redustion_steps` time\n",
        "        - after `max_reduction_steps` return the best triplet\n",
        "\n",
        "    k0: initial value for k         dk: initial value for dk\n",
        "    beta0:  initial value of beta   dbeta:  initial value for dbeta\n",
        "    rho0:   initial value for rho   drho:   initial value for drho\n",
        "    n_nodes:    number of nodes in the graph\n",
        "    vacc_cum:   cumulative vaccination percentage by week\n",
        "    target: expected infections by week\n",
        "    alpha0: (if not None) initial probability used while creating a small-world graph\n",
        "    dalpha: (if not None) initial value for dalpha\n",
        "    seed:   for reproducibility\n",
        "    max_iter:   to stop the iterations after a while\n",
        "    max_reduction_steps:    maximum number of reductions for dk, dbeta, drho\n",
        "    gra\n",
        "    \"\"\"\n",
        "\n",
        "    # to store information about optimal previous iterations\n",
        "    prev_config = None\n",
        "    best_config = None\n",
        "    best_rmse = np.inf\n",
        "    reduction_steps = 0\n",
        "\n",
        "    # to reduce the computaitons required saving the graphs already created\n",
        "    graphs = {}\n",
        "    \n",
        "    it = 0\n",
        "    while it < max_iter:\n",
        "        # define the range of parameters to be tested\n",
        "        parameters = {\n",
        "            \"k\": [max(k0 - dk, 1), k0, k0 + dk],\n",
        "            \"beta\": [max(round(beta0 - dbeta, 5), 0), beta0, min(round(beta0 + dbeta, 5), 1)],\n",
        "            \"rho\": [max(round(rho0 - drho, 5), 0), rho0, min(round(rho0 + drho, 5), 1)],\n",
        "            \"alpha\": [max(round(alpha0 - dalpha, 5), 0), alpha0, min(round(alpha0 + dalpha, 5), 1)] if alpha0 is not None else [None]\n",
        "        }\n",
        "\n",
        "        results = []\n",
        "\n",
        "        for param in tqdm(ParameterGrid(parameters)):\n",
        "            k = param[\"k\"]\n",
        "            beta = param[\"beta\"]\n",
        "            rho = param[\"rho\"]\n",
        "            alpha = param[\"alpha\"]\n",
        "\n",
        "            # generate the graph\n",
        "            if alpha is not None:\n",
        "                if (k, alpha) in graphs.keys():\n",
        "                    G = graphs[(k, alpha)]\n",
        "                else:\n",
        "                    G = sw_random_graph(n_nodes=n_nodes, k=k, alpha=alpha, seed=seed)\n",
        "                    graphs[(k, alpha)] = G\n",
        "            else:\n",
        "                if k in graphs.keys():\n",
        "                    G = graphs[k]\n",
        "                else:\n",
        "                    G = pa_random_graph(n_nodes=n_nodes, k=k, seed=seed)\n",
        "                    graphs[k] = G\n",
        "\n",
        "            # simulate the infection\n",
        "            sirv_results, new_infected, new_vaccinated = simulate_SIRV(G, n_simulations=10,\n",
        "                                                                    weeks=15,\n",
        "                                                                    n_init_infected=target[0],\n",
        "                                                                    beta=beta, rho=rho,\n",
        "                                                                    conditions=conditions,\n",
        "                                                                    vacc_cum=vacc_cum,\n",
        "                                                                    seed=seed)\n",
        "            # compute the average infected by week\n",
        "            avg_new_infected = new_infected.mean(axis=0)\n",
        "\n",
        "            # compute the rmse\n",
        "            rmse = np.sqrt(np.mean((avg_new_infected - target_infected) ** 2))\n",
        "            results.append((param, rmse))\n",
        "\n",
        "        # sort the results based on the rmse to take the best\n",
        "        results.sort(key=lambda t: t[1])\n",
        "\n",
        "        # if the best configuration is the same as previous iteration\n",
        "        if results[0][0] == prev_config:\n",
        "            # count reduction steps\n",
        "            reduction_steps += 1\n",
        "            if reduction_steps < max_reduction_steps:\n",
        "                # divide by 2 the deltas\n",
        "                dk = max(round(dk / 2), 1)\n",
        "                dbeta = round(dbeta / 2, 5)\n",
        "                drho = round(drho / 2, 5)\n",
        "                if dalpha is not None:\n",
        "                    dalpha = round(dalpha / 2, 5)\n",
        "            else:\n",
        "                break\n",
        "        else:\n",
        "            # save the best configuration\n",
        "            prev_config = results[0][0]\n",
        "            # update starting parameters\n",
        "            k0 = prev_config[\"k\"]\n",
        "            beta0 = prev_config[\"beta\"]\n",
        "            rho0 = prev_config[\"rho\"]\n",
        "            if alpha0 is not None:\n",
        "                alpha0 = prev_config[\"alpha\"]\n",
        "            \n",
        "            # update the best configuration\n",
        "            if results[0][1] < best_rmse:\n",
        "                best_config, best_rmse = results[0]\n",
        "                print(f\"New best found! RMSE={best_rmse} with config={best_config}\")\n",
        "\n",
        "        # to stop after a certain amount of iterations\n",
        "        it += 1\n",
        "\n",
        "    if alpha0 is not None:\n",
        "        return best_config, best_rmse, graphs[(best_config[\"k\"], best_config[\"alpha\"])]\n",
        "    else:\n",
        "        return best_config, best_rmse, graphs[best_config[\"k\"]]"
      ]
    },
    {
      "cell_type": "code",
      "execution_count": 19,
      "metadata": {
        "id": "8EXuch1W61mZ"
      },
      "outputs": [],
      "source": [
        "# parameters\n",
        "n_nodes = 934\n",
        "\n",
        "# come constants\n",
        "S, I, R, V = 0, 1, 2, 3\n",
        "conditions = {S: \"Susceptible\", I: \"Infected\", R: \"Recovered\", V: \"Vaccinated\"}\n",
        "\n",
        "vacc_cum = np.array([0, 5, 9, 16, 24, 32, 40, 47, 54, 59, 60, 60, 60, 60, 60, 60, 60, 60])\n",
        "target_infected = np.array([1, 1, 3, 5, 9, 17, 32, 32, 17, 5, 2, 1, 0, 0, 0, 0])"
      ]
    },
    {
      "cell_type": "code",
      "execution_count": null,
      "metadata": {
        "colab": {
          "base_uri": "https://localhost:8080/"
        },
        "id": "7x8jF498YKBz",
        "outputId": "13963478-08d7-4f8f-e27c-4e3349eddf54"
      },
      "outputs": [
        {
          "name": "stderr",
          "output_type": "stream",
          "text": [
            "100%|██████████| 27/27 [02:13<00:00,  4.95s/it]\n"
          ]
        },
        {
          "name": "stdout",
          "output_type": "stream",
          "text": [
            "New best found! RMSE=6.395555097096733 with config={'alpha': None, 'beta': 0.2, 'k': 9, 'rho': 0.5}\n"
          ]
        },
        {
          "name": "stderr",
          "output_type": "stream",
          "text": [
            "100%|██████████| 27/27 [01:53<00:00,  4.20s/it]\n",
            "100%|██████████| 27/27 [01:39<00:00,  3.69s/it]\n"
          ]
        },
        {
          "name": "stdout",
          "output_type": "stream",
          "text": [
            "New best found! RMSE=4.840841868931477 with config={'alpha': None, 'beta': 0.2, 'k': 10, 'rho': 0.45}\n"
          ]
        },
        {
          "name": "stderr",
          "output_type": "stream",
          "text": [
            "100%|██████████| 27/27 [01:43<00:00,  3.84s/it]\n",
            "100%|██████████| 27/27 [01:38<00:00,  3.67s/it]\n",
            "100%|██████████| 27/27 [01:39<00:00,  3.70s/it]"
          ]
        },
        {
          "name": "stdout",
          "output_type": "stream",
          "text": [
            "\n",
            "\n",
            " The lowest RMSE=4.840841868931477 was found using the config {'alpha': None, 'beta': 0.2, 'k': 10, 'rho': 0.45}\n"
          ]
        },
        {
          "name": "stderr",
          "output_type": "stream",
          "text": [
            "\n"
          ]
        }
      ],
      "source": [
        "best_config, best_rmse, best_graph = find_best_parameters(k0=10, dk=1, beta0=0.3,\n",
        "                                   dbeta=0.1, rho0=0.6, drho=0.1,\n",
        "                                   n_nodes=n_nodes, vacc_cum=vacc_cum,\n",
        "                                   target=target_infected, seed=SEED)\n",
        "\n",
        "print(\"\\n\\n\", f\"The lowest RMSE={best_rmse} was found using the config {best_config}\")"
      ]
    },
    {
      "cell_type": "code",
      "execution_count": null,
      "metadata": {
        "colab": {
          "base_uri": "https://localhost:8080/"
        },
        "id": "PqB-0OYsWRRd",
        "outputId": "b02f9dcc-1b4b-470c-9532-72d5ad7c27f6"
      },
      "outputs": [
        {
          "name": "stderr",
          "output_type": "stream",
          "text": [
            "100%|██████████| 27/27 [02:15<00:00,  5.04s/it]\n"
          ]
        },
        {
          "name": "stdout",
          "output_type": "stream",
          "text": [
            "New best found! RMSE=6.560154342696519 with config={'alpha': None, 'beta': 0.2, 'k': 10, 'rho': 0.7}\n"
          ]
        },
        {
          "name": "stderr",
          "output_type": "stream",
          "text": [
            "100%|██████████| 27/27 [01:48<00:00,  4.04s/it]\n",
            "100%|██████████| 27/27 [02:14<00:00,  4.96s/it]\n"
          ]
        },
        {
          "name": "stdout",
          "output_type": "stream",
          "text": [
            "New best found! RMSE=5.379823417176441 with config={'alpha': None, 'beta': 0.15, 'k': 10, 'rho': 0.65}\n"
          ]
        },
        {
          "name": "stderr",
          "output_type": "stream",
          "text": [
            "100%|██████████| 27/27 [01:50<00:00,  4.08s/it]\n",
            "100%|██████████| 27/27 [01:50<00:00,  4.09s/it]\n"
          ]
        },
        {
          "name": "stdout",
          "output_type": "stream",
          "text": [
            "New best found! RMSE=4.967708224121059 with config={'alpha': None, 'beta': 0.125, 'k': 11, 'rho': 0.625}\n"
          ]
        },
        {
          "name": "stderr",
          "output_type": "stream",
          "text": [
            "100%|██████████| 27/27 [02:01<00:00,  4.49s/it]\n",
            "100%|██████████| 27/27 [01:56<00:00,  4.33s/it]"
          ]
        },
        {
          "name": "stdout",
          "output_type": "stream",
          "text": [
            "\n",
            "\n",
            " The lowest RMSE=4.967708224121059 was found using the config {'alpha': None, 'beta': 0.125, 'k': 11, 'rho': 0.625}\n"
          ]
        },
        {
          "name": "stderr",
          "output_type": "stream",
          "text": [
            "\n"
          ]
        }
      ],
      "source": [
        "best_config, best_rmse, best_graph = find_best_parameters(k0=10, dk=2, beta0=0.3,\n",
        "                                   dbeta=0.1, rho0=0.6, drho=0.1,\n",
        "                                   n_nodes=n_nodes, vacc_cum=vacc_cum,\n",
        "                                   target=target_infected, seed=SEED)\n",
        "\n",
        "print(\"\\n\\n\", f\"The lowest RMSE={best_rmse} was found using the config {best_config}\")"
      ]
    },
    {
      "cell_type": "code",
      "execution_count": null,
      "metadata": {
        "colab": {
          "base_uri": "https://localhost:8080/"
        },
        "id": "WyEjGUIodgFl",
        "outputId": "eeb7e2bf-ece8-4e74-e2d7-02ad6f7e16ef"
      },
      "outputs": [
        {
          "name": "stderr",
          "output_type": "stream",
          "text": [
            "100%|██████████| 27/27 [02:00<00:00,  4.46s/it]\n"
          ]
        },
        {
          "name": "stdout",
          "output_type": "stream",
          "text": [
            "New best found! RMSE=34.466632414554226 with config={'alpha': None, 'beta': 0.4, 'k': 8, 'rho': 0.4}\n"
          ]
        },
        {
          "name": "stderr",
          "output_type": "stream",
          "text": [
            "100%|██████████| 27/27 [01:30<00:00,  3.35s/it]\n"
          ]
        },
        {
          "name": "stdout",
          "output_type": "stream",
          "text": [
            "New best found! RMSE=7.203211089507234 with config={'alpha': None, 'beta': 0.3, 'k': 6, 'rho': 0.4}\n"
          ]
        },
        {
          "name": "stderr",
          "output_type": "stream",
          "text": [
            "100%|██████████| 27/27 [01:33<00:00,  3.46s/it]\n"
          ]
        },
        {
          "name": "stdout",
          "output_type": "stream",
          "text": [
            "New best found! RMSE=6.970921746799343 with config={'alpha': None, 'beta': 0.4, 'k': 4, 'rho': 0.4}\n"
          ]
        },
        {
          "name": "stderr",
          "output_type": "stream",
          "text": [
            "100%|██████████| 27/27 [01:29<00:00,  3.32s/it]\n",
            "100%|██████████| 27/27 [01:35<00:00,  3.55s/it]\n"
          ]
        },
        {
          "name": "stdout",
          "output_type": "stream",
          "text": [
            "New best found! RMSE=5.554502678008176 with config={'alpha': None, 'beta': 0.45, 'k': 3, 'rho': 0.35}\n"
          ]
        },
        {
          "name": "stderr",
          "output_type": "stream",
          "text": [
            "100%|██████████| 27/27 [01:17<00:00,  2.87s/it]\n",
            "100%|██████████| 27/27 [01:18<00:00,  2.89s/it]\n"
          ]
        },
        {
          "name": "stdout",
          "output_type": "stream",
          "text": [
            "New best found! RMSE=5.247082522697732 with config={'alpha': None, 'beta': 0.475, 'k': 4, 'rho': 0.325}\n"
          ]
        },
        {
          "name": "stderr",
          "output_type": "stream",
          "text": [
            "100%|██████████| 27/27 [01:16<00:00,  2.85s/it]\n",
            "100%|██████████| 27/27 [01:21<00:00,  3.02s/it]"
          ]
        },
        {
          "name": "stdout",
          "output_type": "stream",
          "text": [
            "\n",
            "\n",
            " The lowest RMSE=5.247082522697732 was found using the config {'alpha': None, 'beta': 0.475, 'k': 4, 'rho': 0.325}\n"
          ]
        },
        {
          "name": "stderr",
          "output_type": "stream",
          "text": [
            "\n"
          ]
        }
      ],
      "source": [
        "best_config, best_rmse, best_graph = find_best_parameters(k0=10, dk=2, beta0=0.5,\n",
        "                                   dbeta=0.1, rho0=0.5, drho=0.1,\n",
        "                                   n_nodes=n_nodes, vacc_cum=vacc_cum,\n",
        "                                   target=target_infected, seed=SEED)\n",
        "\n",
        "print(\"\\n\\n\", f\"The lowest RMSE={best_rmse} was found using the config {best_config}\")"
      ]
    },
    {
      "cell_type": "code",
      "execution_count": null,
      "metadata": {
        "colab": {
          "base_uri": "https://localhost:8080/",
          "height": 355
        },
        "id": "qoQudOc5tiOy",
        "outputId": "d35bd2e4-3e3d-4f0a-8595-2805e8b4b6fd"
      },
      "outputs": [],
      "source": [
        "G = pa_random_graph(n_nodes=n_nodes, k=10, seed=20)\n",
        "\n",
        "# simulate the infection\n",
        "sirv_results, new_infected, new_vaccinated = simulate_SIRV(G, n_simulations=10,\n",
        "                                                            weeks=15,\n",
        "                                                            n_init_infected=target_infected[0],\n",
        "                                                            beta=0.2,\n",
        "                                                            rho=0.45,\n",
        "                                                            conditions=conditions,\n",
        "                                                            vacc_cum=vacc_cum,\n",
        "                                                            seed=20)\n",
        "\n",
        "# compute the average over the simulations\n",
        "avg_sirv_results = np.array(sirv_results).mean(axis=0)\n",
        "avg_new_infected = np.array(new_infected).mean(axis=0)\n",
        "\n",
        "# plot\n",
        "fig, ax = plt.subplots(1, 2, figsize=(12, 5))\n",
        "\n",
        "ax[0].set_title(\"SIRV epidemics evolution\")\n",
        "for condition in range(len(conditions)):\n",
        "    ax[0].plot(range(16), avg_sirv_results[condition, :], label=conditions[condition])\n",
        "ax[0].legend()\n",
        "ax[0].set_xlabel(\"Week\")\n",
        "ax[0].set_ylabel(\"# people\")\n",
        "\n",
        "ax[1].set_title(\"New infections & vaccinations by week\")\n",
        "ax[1].plot(range(16), target_infected, label=\"Real new infected\")\n",
        "ax[1].plot(range(16), avg_new_infected, label=\"Approximated new infected\")\n",
        "ax[1].legend(loc='lower center')\n",
        "ax[1].set_xlabel(\"Week\")\n",
        "ax[1].set_ylabel(\"# people\")\n",
        "\n",
        "plt.savefig(\"./p4_sirv_evolution.pdf\", bbox_inches=\"tight\")"
      ]
    },
    {
      "cell_type": "markdown",
      "metadata": {
        "id": "1zox_SmRbhL1"
      },
      "source": [
        "## Problem 5"
      ]
    },
    {
      "cell_type": "code",
      "execution_count": null,
      "metadata": {
        "id": "EuJ4KIpx37Ux"
      },
      "outputs": [],
      "source": [
        "def sw_random_graph(n_nodes, k, alpha, seed=None):\n",
        "    \"\"\"\n",
        "    Small world graph constructed as defined by Newman-Watts-Strogatz. Starting\n",
        "    from a symmetric k regular graph, to each of the nodes we add with probability\n",
        "    alpha a connection to a node, chosen at random, that is neither among its\n",
        "    neighbors nor itself.\n",
        "\n",
        "    n_nodes:    amount of nodes in the graph\n",
        "    k:  degree of the initial symmetric k-regular graph\n",
        "    alpha:  probability that the new connection is created\n",
        "    seed:   for reproducibility purposes\n",
        "    \"\"\"\n",
        "    if k % 2 == 0:\n",
        "        k -= 1\n",
        "\n",
        "    G = symmetric_k_regular_graph(n_nodes=n_nodes, k=k)\n",
        "\n",
        "    # for reproducibility\n",
        "    if seed is not None:\n",
        "        np.random.seed(SEED)\n",
        "    for node in G.nodes():\n",
        "        # for each node with probability alpha\n",
        "        if np.random.rand() < alpha:\n",
        "            # among all the nodes that are not yet its negihbors\n",
        "            possible_new_neighs = set(list(G.nodes())) - set(list(G.neighbors(node))) - set([node])\n",
        "            # chose one at random\n",
        "            new_neigh = np.random.choice(list(possible_new_neighs))\n",
        "            # and connect them\n",
        "            G.add_edge(node, new_neigh)\n",
        "    \n",
        "    return G"
      ]
    },
    {
      "cell_type": "code",
      "execution_count": null,
      "metadata": {
        "colab": {
          "base_uri": "https://localhost:8080/",
          "height": 248
        },
        "id": "-OjBrbeo-54K",
        "outputId": "9ab61241-449d-491c-daf6-1931dded482b"
      },
      "outputs": [],
      "source": [
        "# example with small graph to be plotted\n",
        "G = sw_random_graph(n_nodes=12, k=5, alpha=0.5, seed=SEED)\n",
        "\n",
        "# plot\n",
        "pos = nx.circular_layout(G)\n",
        "nx.draw_networkx_nodes(G, pos, linewidths=3, edgecolors=\"#000000\")\n",
        "nx.draw(G, pos, node_color=\"#ffffff\", with_labels=True)\n",
        "\n",
        "plt.savefig(\"./p5_sw_random_graph.pdf\", bbox_inches=\"tight\")"
      ]
    },
    {
      "cell_type": "code",
      "execution_count": null,
      "metadata": {
        "id": "hv1HBug93ym5"
      },
      "outputs": [],
      "source": [
        "# parameters\n",
        "n_nodes = 934\n",
        "\n",
        "vacc_cum = np.array([0, 5, 9, 16, 24, 32, 40, 47, 54, 59, 60, 60, 60, 60, 60, 60, 60, 60])\n",
        "target_infected = np.array([1, 1, 3, 5, 9, 17, 32, 32, 17, 5, 2, 1, 0, 0, 0, 0])"
      ]
    },
    {
      "cell_type": "markdown",
      "metadata": {
        "id": "WumsrClHXSxW"
      },
      "source": [
        "Test a few parameters with smal-world model."
      ]
    },
    {
      "cell_type": "code",
      "execution_count": null,
      "metadata": {
        "colab": {
          "base_uri": "https://localhost:8080/"
        },
        "id": "9Ohrco-mCedH",
        "outputId": "cfb486a6-0fcc-4e49-b7ec-4f4216cee45f"
      },
      "outputs": [
        {
          "name": "stderr",
          "output_type": "stream",
          "text": [
            "100%|██████████| 81/81 [05:40<00:00,  4.21s/it]\n"
          ]
        },
        {
          "name": "stdout",
          "output_type": "stream",
          "text": [
            "New best found! RMSE=7.427146154479526 with config={'alpha': 0.6, 'beta': 0.4, 'k': 9, 'rho': 0.7}\n"
          ]
        },
        {
          "name": "stderr",
          "output_type": "stream",
          "text": [
            "100%|██████████| 81/81 [05:09<00:00,  3.82s/it]\n",
            "100%|██████████| 81/81 [05:10<00:00,  3.84s/it]\n"
          ]
        },
        {
          "name": "stdout",
          "output_type": "stream",
          "text": [
            "New best found! RMSE=7.290876147624509 with config={'alpha': 0.65, 'beta': 0.35, 'k': 9, 'rho': 0.65}\n"
          ]
        },
        {
          "name": "stderr",
          "output_type": "stream",
          "text": [
            "100%|██████████| 81/81 [05:32<00:00,  4.11s/it]\n"
          ]
        },
        {
          "name": "stdout",
          "output_type": "stream",
          "text": [
            "New best found! RMSE=7.290533245243451 with config={'alpha': 0.7, 'beta': 0.35, 'k': 8, 'rho': 0.7}\n"
          ]
        },
        {
          "name": "stderr",
          "output_type": "stream",
          "text": [
            "100%|██████████| 81/81 [05:17<00:00,  3.92s/it]\n",
            "100%|██████████| 81/81 [05:00<00:00,  3.71s/it]"
          ]
        },
        {
          "name": "stdout",
          "output_type": "stream",
          "text": [
            "\n",
            "\n",
            " The lowest RMSE=7.290533245243451 was found using the config {'alpha': 0.7, 'beta': 0.35, 'k': 8, 'rho': 0.7}\n"
          ]
        },
        {
          "name": "stderr",
          "output_type": "stream",
          "text": [
            "\n"
          ]
        }
      ],
      "source": [
        "best_config, best_rmse, best_graph = find_best_parameters(k0=10, dk=1, beta0=0.3,\n",
        "                                   dbeta=0.1, rho0=0.6, drho=0.1, alpha0=0.7, dalpha=0.1,\n",
        "                                   n_nodes=n_nodes, vacc_cum=vacc_cum,\n",
        "                                   target=target_infected, seed=SEED, max_iter=15,\n",
        "                                   max_reduction_steps=2)\n",
        "\n",
        "print(\"\\n\\n\", f\"The lowest RMSE={best_rmse} was found using the config {best_config}\")"
      ]
    },
    {
      "cell_type": "code",
      "execution_count": null,
      "metadata": {
        "colab": {
          "base_uri": "https://localhost:8080/"
        },
        "id": "1Lk-0qp_yeu0",
        "outputId": "0102708e-deee-4c35-e1d8-877fe4c486f2"
      },
      "outputs": [
        {
          "name": "stderr",
          "output_type": "stream",
          "text": [
            "100%|██████████| 81/81 [05:37<00:00,  4.17s/it]\n"
          ]
        },
        {
          "name": "stdout",
          "output_type": "stream",
          "text": [
            "New best found! RMSE=7.477131803037847 with config={'alpha': 0.3, 'beta': 0.3, 'k': 11, 'rho': 0.6}\n"
          ]
        },
        {
          "name": "stderr",
          "output_type": "stream",
          "text": [
            "100%|██████████| 81/81 [05:38<00:00,  4.18s/it]\n",
            "100%|██████████| 81/81 [05:25<00:00,  4.02s/it]\n",
            "100%|██████████| 81/81 [05:08<00:00,  3.81s/it]\n",
            "100%|██████████| 81/81 [04:58<00:00,  3.69s/it]\n",
            "100%|██████████| 81/81 [04:41<00:00,  3.48s/it]\n",
            "100%|██████████| 81/81 [04:41<00:00,  3.47s/it]\n",
            "100%|██████████| 81/81 [04:37<00:00,  3.43s/it]"
          ]
        },
        {
          "name": "stdout",
          "output_type": "stream",
          "text": [
            "\n",
            "\n",
            " The lowest RMSE=7.477131803037847 was found using the config {'alpha': 0.3, 'beta': 0.3, 'k': 11, 'rho': 0.6}\n"
          ]
        },
        {
          "name": "stderr",
          "output_type": "stream",
          "text": [
            "\n"
          ]
        }
      ],
      "source": [
        "best_config, best_rmse, best_graph = find_best_parameters(k0=10, dk=1, beta0=0.3,\n",
        "                                   dbeta=0.1, rho0=0.6, drho=0.1, alpha0=0.3, dalpha=0.1,\n",
        "                                   n_nodes=n_nodes, vacc_cum=vacc_cum,\n",
        "                                   target=target_infected, seed=SEED, max_iter=15,\n",
        "                                   max_reduction_steps=2)\n",
        "\n",
        "print(\"\\n\\n\", f\"The lowest RMSE={best_rmse} was found using the config {best_config}\")"
      ]
    },
    {
      "cell_type": "code",
      "execution_count": null,
      "metadata": {
        "colab": {
          "base_uri": "https://localhost:8080/"
        },
        "id": "xG1IWq7a_sn-",
        "outputId": "04b4cacd-5241-497f-fd3e-bb295d5b372e"
      },
      "outputs": [
        {
          "name": "stderr",
          "output_type": "stream",
          "text": [
            "100%|██████████| 81/81 [05:25<00:00,  4.02s/it]\n"
          ]
        },
        {
          "name": "stdout",
          "output_type": "stream",
          "text": [
            "New best found! RMSE=6.853466276272176 with config={'alpha': 0.5, 'beta': 0.5, 'k': 8, 'rho': 0.8}\n"
          ]
        },
        {
          "name": "stderr",
          "output_type": "stream",
          "text": [
            "100%|██████████| 81/81 [04:42<00:00,  3.48s/it]\n",
            "100%|██████████| 81/81 [05:00<00:00,  3.71s/it]\n",
            "100%|██████████| 81/81 [04:29<00:00,  3.33s/it]\n",
            "100%|██████████| 81/81 [04:06<00:00,  3.04s/it]\n"
          ]
        },
        {
          "name": "stdout",
          "output_type": "stream",
          "text": [
            "New best found! RMSE=6.324258849857428 with config={'alpha': 0.5, 'beta': 1, 'k': 4, 'rho': 0.1}\n"
          ]
        },
        {
          "name": "stderr",
          "output_type": "stream",
          "text": [
            "100%|██████████| 81/81 [03:49<00:00,  2.84s/it]\n",
            "100%|██████████| 81/81 [03:49<00:00,  2.83s/it]\n",
            "100%|██████████| 81/81 [03:49<00:00,  2.84s/it]\n",
            "100%|██████████| 81/81 [03:49<00:00,  2.84s/it]\n",
            "100%|██████████| 81/81 [03:54<00:00,  2.90s/it]"
          ]
        },
        {
          "name": "stdout",
          "output_type": "stream",
          "text": [
            "\n",
            "\n",
            " The lowest RMSE=6.324258849857428 was found using the config {'alpha': 0.5, 'beta': 1, 'k': 4, 'rho': 0.1}\n"
          ]
        },
        {
          "name": "stderr",
          "output_type": "stream",
          "text": [
            "\n"
          ]
        }
      ],
      "source": [
        "best_config, best_rmse, best_graph = find_best_parameters(k0=10, dk=2, beta0=0.3,\n",
        "                                   dbeta=0.2, rho0=0.6, drho=0.2, alpha0=0.5, dalpha=0.2,\n",
        "                                   n_nodes=n_nodes, vacc_cum=vacc_cum,\n",
        "                                   target=target_infected, seed=SEED, max_iter=15,\n",
        "                                   max_reduction_steps=2)\n",
        "\n",
        "print(\"\\n\\n\", f\"The lowest RMSE={best_rmse} was found using the config {best_config}\")"
      ]
    },
    {
      "cell_type": "markdown",
      "metadata": {
        "id": "CtuNCEryXZgW"
      },
      "source": [
        "Change the search algorithm"
      ]
    },
    {
      "cell_type": "code",
      "execution_count": null,
      "metadata": {
        "id": "fKAhej2HJawu"
      },
      "outputs": [],
      "source": [
        "def random_search(k_int, beta_int, rho_int, n_nodes, vacc_cum, target,\n",
        "                  alpha_int=None, seed=None, max_iter=1000, graphs=None):\n",
        "    best_config = None\n",
        "    best_rmse = np.inf\n",
        "\n",
        "    if graphs is None:\n",
        "        graphs = dict()\n",
        "\n",
        "    configs = []\n",
        "\n",
        "    if seed is not None:\n",
        "        np.random.seed(seed)\n",
        "    try:\n",
        "        for it in tqdm(range(max_iter)):\n",
        "            while True:\n",
        "                k = np.random.choice([i for i in range(k_int[0], k_int[1]+1)])\n",
        "                beta = round(np.random.uniform(beta_int[0], beta_int[1]), 2)\n",
        "                rho = round(np.random.uniform(rho_int[0], rho_int[1]), 2)\n",
        "                if alpha_int is not None:\n",
        "                    alpha = np.random.uniform(alpha_int[0], alpha_int[1])\n",
        "                    config = {\"beta\": beta, \"rho\": rho, \"k\": k, \"alpha\": alpha}\n",
        "                else:\n",
        "                    alpha = None\n",
        "                    config = {\"beta\": beta, \"rho\": rho, \"k\": k}\n",
        "                \n",
        "                if config not in configs:\n",
        "                    configs.append(config)\n",
        "                    break\n",
        "\n",
        "            # generate the graph\n",
        "            if alpha is not None:\n",
        "                if (k, alpha) in graphs.keys():\n",
        "                    G = graphs[(k, alpha)]\n",
        "                else:\n",
        "                    G = sw_random_graph(n_nodes=n_nodes, k=k, alpha=alpha, seed=seed)\n",
        "                    graphs[(k, alpha)] = G\n",
        "            else:\n",
        "                if k in graphs.keys():\n",
        "                    G = graphs[k]\n",
        "                else:\n",
        "                    G = pa_random_graph(n_nodes=n_nodes, k=k, seed=seed)\n",
        "                    graphs[k] = G\n",
        "\n",
        "            # simulate the pandemic\n",
        "            sirv_results, new_infected, new_vaccinated = simulate_SIRV(G, n_simulations=10,\n",
        "                                                                    weeks=15,\n",
        "                                                                    n_init_infected=target[0],\n",
        "                                                                    beta=beta, rho=rho,\n",
        "                                                                    conditions=conditions,\n",
        "                                                                    vacc_cum=vacc_cum,\n",
        "                                                                    seed=seed)\n",
        "            \n",
        "            # compute the average infected by week\n",
        "            avg_new_infected = new_infected.mean(axis=0)\n",
        "\n",
        "            # compute the rmse\n",
        "            rmse = np.sqrt(np.mean((avg_new_infected - target_infected) ** 2))\n",
        "\n",
        "            if rmse < best_rmse:\n",
        "                best_rmse = rmse\n",
        "                best_config = config\n",
        "\n",
        "                print(f\"New best found! RMSE={best_rmse} config={best_config}\")\n",
        "    except:\n",
        "        if alpha_int is not None:\n",
        "            return best_config, best_rmse, graphs[(best_config[\"k\"], best_config[\"alpha\"])]\n",
        "        else:\n",
        "            return best_config, best_rmse, graphs[best_config[\"k\"]]\n",
        "    \n",
        "    if alpha_int is not None:\n",
        "        return best_config, best_rmse, graphs[(best_config[\"k\"], best_config[\"alpha\"])]\n",
        "    else:\n",
        "        return best_config, best_rmse, graphs[best_config[\"k\"]]"
      ]
    },
    {
      "cell_type": "code",
      "execution_count": null,
      "metadata": {
        "colab": {
          "base_uri": "https://localhost:8080/"
        },
        "id": "HQF-Rfpq21UU",
        "outputId": "e1fee6a4-49c1-40cc-ca6a-90343c189987"
      },
      "outputs": [
        {
          "name": "stderr",
          "output_type": "stream",
          "text": [
            "  0%|          | 1/1000 [00:02<38:43,  2.33s/it]"
          ]
        },
        {
          "name": "stdout",
          "output_type": "stream",
          "text": [
            "New best found! RMSE=117.91112118880051 config={'beta': 0.84, 'rho': 0.85, 'k': 10}\n"
          ]
        },
        {
          "name": "stderr",
          "output_type": "stream",
          "text": [
            "\r  0%|          | 2/1000 [00:04<38:10,  2.30s/it]"
          ]
        },
        {
          "name": "stdout",
          "output_type": "stream",
          "text": [
            "New best found! RMSE=114.40850875262731 config={'beta': 0.95, 'rho': 0.19, 'k': 9}\n"
          ]
        },
        {
          "name": "stderr",
          "output_type": "stream",
          "text": [
            "\r  0%|          | 3/1000 [00:07<40:37,  2.44s/it]"
          ]
        },
        {
          "name": "stdout",
          "output_type": "stream",
          "text": [
            "New best found! RMSE=46.36871251177889 config={'beta': 0.61, 'rho': 0.83, 'k': 6}\n"
          ]
        },
        {
          "name": "stderr",
          "output_type": "stream",
          "text": [
            "\r  0%|          | 4/1000 [00:12<57:47,  3.48s/it]"
          ]
        },
        {
          "name": "stdout",
          "output_type": "stream",
          "text": [
            "New best found! RMSE=11.16271696317702 config={'beta': 0.08, 'rho': 0.77, 'k': 14}\n"
          ]
        },
        {
          "name": "stderr",
          "output_type": "stream",
          "text": [
            "  3%|▎         | 26/1000 [01:32<58:10,  3.58s/it]"
          ]
        },
        {
          "name": "stdout",
          "output_type": "stream",
          "text": [
            "New best found! RMSE=10.189578008926572 config={'beta': 0.09, 'rho': 0.78, 'k': 13}\n"
          ]
        },
        {
          "name": "stderr",
          "output_type": "stream",
          "text": [
            "  7%|▋         | 74/1000 [04:30<1:06:03,  4.28s/it]"
          ]
        },
        {
          "name": "stdout",
          "output_type": "stream",
          "text": [
            "New best found! RMSE=10.165228723447395 config={'beta': 0.28, 'rho': 0.57, 'k': 7}\n"
          ]
        },
        {
          "name": "stderr",
          "output_type": "stream",
          "text": [
            "\r  8%|▊         | 75/1000 [04:34<1:05:33,  4.25s/it]"
          ]
        },
        {
          "name": "stdout",
          "output_type": "stream",
          "text": [
            "New best found! RMSE=9.081815622440262 config={'beta': 0.19, 'rho': 0.77, 'k': 7}\n"
          ]
        },
        {
          "name": "stderr",
          "output_type": "stream",
          "text": [
            " 11%|█         | 107/1000 [06:17<43:43,  2.94s/it]"
          ]
        },
        {
          "name": "stdout",
          "output_type": "stream",
          "text": [
            "New best found! RMSE=6.117955132231684 config={'beta': 0.19, 'rho': 0.78, 'k': 9}\n"
          ]
        },
        {
          "name": "stderr",
          "output_type": "stream",
          "text": [
            " 13%|█▎        | 134/1000 [07:49<56:58,  3.95s/it]"
          ]
        },
        {
          "name": "stdout",
          "output_type": "stream",
          "text": [
            "New best found! RMSE=5.443114917030505 config={'beta': 0.11, 'rho': 0.4, 'k': 10}\n"
          ]
        },
        {
          "name": "stderr",
          "output_type": "stream",
          "text": [
            " 26%|██▌       | 257/1000 [13:49<40:22,  3.26s/it]"
          ]
        },
        {
          "name": "stdout",
          "output_type": "stream",
          "text": [
            "New best found! RMSE=3.9701227940707327 config={'beta': 0.1, 'rho': 0.67, 'k': 15}\n"
          ]
        },
        {
          "name": "stderr",
          "output_type": "stream",
          "text": [
            "100%|██████████| 1000/1000 [50:35<00:00,  3.04s/it]"
          ]
        },
        {
          "name": "stdout",
          "output_type": "stream",
          "text": [
            "\n",
            "\n",
            " The lowest RMSE=3.9701227940707327 was found using the config {'beta': 0.1, 'rho': 0.67, 'k': 15}\n"
          ]
        },
        {
          "name": "stderr",
          "output_type": "stream",
          "text": [
            "\n"
          ]
        }
      ],
      "source": [
        "graphs = dict()\n",
        "for k in range(5, 16):\n",
        "    graphs[k] = pa_random_graph(n_nodes=n_nodes, k=k, seed=SEED)\n",
        "\n",
        "# testing random search on preferential attachment graph with normal distributions\n",
        "best_config, best_rmse, best_graph = random_search(k_int=[5, 15], beta_int=[0.01, 0.99], rho_int=[0.01, 0.99],\n",
        "                                                   n_nodes=n_nodes, vacc_cum=vacc_cum, target=target_infected,\n",
        "                                                   seed=SEED, graphs=graphs)\n",
        "\n",
        "print(\"\\n\\n\", f\"The lowest RMSE={best_rmse} was found using the config {best_config}\")"
      ]
    },
    {
      "cell_type": "code",
      "execution_count": null,
      "metadata": {
        "colab": {
          "base_uri": "https://localhost:8080/"
        },
        "id": "KmImxu1Cn-ef",
        "outputId": "c38ea65f-ac90-43cc-e4f7-2ca5337155cd"
      },
      "outputs": [
        {
          "name": "stderr",
          "output_type": "stream",
          "text": [
            "  0%|          | 1/1000 [00:02<48:36,  2.92s/it]"
          ]
        },
        {
          "name": "stdout",
          "output_type": "stream",
          "text": [
            "New best found! RMSE=81.72480498600166 config={'beta': 0.38003144167344466, 'rho': 0.7957475968211478, 'k': 14}\n"
          ]
        },
        {
          "name": "stderr",
          "output_type": "stream",
          "text": [
            "\r  0%|          | 2/1000 [00:06<52:36,  3.16s/it]"
          ]
        },
        {
          "name": "stdout",
          "output_type": "stream",
          "text": [
            "New best found! RMSE=28.49503246181692 config={'beta': 0.3079447685332477, 'rho': 0.7319281205696913, 'k': 9}\n"
          ]
        },
        {
          "name": "stderr",
          "output_type": "stream",
          "text": [
            "  0%|          | 4/1000 [00:12<53:10,  3.20s/it]"
          ]
        },
        {
          "name": "stdout",
          "output_type": "stream",
          "text": [
            "New best found! RMSE=14.05798260775706 config={'beta': 0.2808069134884707, 'rho': 1, 'k': 7}\n"
          ]
        },
        {
          "name": "stderr",
          "output_type": "stream",
          "text": [
            "  2%|▏         | 15/1000 [00:55<1:16:16,  4.65s/it]"
          ]
        },
        {
          "name": "stdout",
          "output_type": "stream",
          "text": [
            "New best found! RMSE=13.162446581088183 config={'beta': 0, 'rho': 0.6963904391210284, 'k': 13}\n"
          ]
        },
        {
          "name": "stderr",
          "output_type": "stream",
          "text": [
            "  2%|▏         | 19/1000 [01:08<1:00:14,  3.68s/it]"
          ]
        },
        {
          "name": "stdout",
          "output_type": "stream",
          "text": [
            "New best found! RMSE=13.004975009587676 config={'beta': 0.08855221197282381, 'rho': 0.32108132877232604, 'k': 7}\n"
          ]
        },
        {
          "name": "stderr",
          "output_type": "stream",
          "text": [
            "  2%|▎         | 25/1000 [01:26<51:57,  3.20s/it]"
          ]
        },
        {
          "name": "stdout",
          "output_type": "stream",
          "text": [
            "New best found! RMSE=12.218914640834512 config={'beta': 0.1291138232981452, 'rho': 0.8433503199981713, 'k': 5}\n"
          ]
        },
        {
          "name": "stderr",
          "output_type": "stream",
          "text": [
            "  4%|▍         | 39/1000 [02:17<58:42,  3.67s/it]"
          ]
        },
        {
          "name": "stdout",
          "output_type": "stream",
          "text": [
            "New best found! RMSE=9.496742862687187 config={'beta': 0.0964931223915246, 'rho': 0.5241734084736686, 'k': 10}\n"
          ]
        },
        {
          "name": "stderr",
          "output_type": "stream",
          "text": [
            "  4%|▍         | 41/1000 [02:24<56:54,  3.56s/it]"
          ]
        },
        {
          "name": "stdout",
          "output_type": "stream",
          "text": [
            "New best found! RMSE=6.849726271903133 config={'beta': 0.16237659887950448, 'rho': 0.6896655628349097, 'k': 10}\n"
          ]
        },
        {
          "name": "stderr",
          "output_type": "stream",
          "text": [
            "  5%|▌         | 54/1000 [03:12<54:02,  3.43s/it]"
          ]
        },
        {
          "name": "stdout",
          "output_type": "stream",
          "text": [
            "New best found! RMSE=6.617779083650345 config={'beta': 0.2029437692069641, 'rho': 0.6268047480808978, 'k': 7}\n"
          ]
        },
        {
          "name": "stderr",
          "output_type": "stream",
          "text": [
            " 10%|█         | 104/1000 [05:56<50:42,  3.40s/it]"
          ]
        },
        {
          "name": "stdout",
          "output_type": "stream",
          "text": [
            "New best found! RMSE=5.552476924760696 config={'beta': 0.1522712786392696, 'rho': 0.5778789118479916, 'k': 11}\n"
          ]
        },
        {
          "name": "stderr",
          "output_type": "stream",
          "text": [
            " 16%|█▌        | 158/1000 [08:56<42:51,  3.05s/it]"
          ]
        },
        {
          "name": "stdout",
          "output_type": "stream",
          "text": [
            "New best found! RMSE=5.1242072557616165 config={'beta': 0.2858771613559468, 'rho': 0.27150410523473323, 'k': 6}\n"
          ]
        },
        {
          "name": "stderr",
          "output_type": "stream",
          "text": [
            " 23%|██▎       | 234/1000 [13:18<49:11,  3.85s/it]"
          ]
        },
        {
          "name": "stdout",
          "output_type": "stream",
          "text": [
            "New best found! RMSE=4.553501400021746 config={'beta': 0.16964633856957873, 'rho': 0.7326869726661309, 'k': 11}\n"
          ]
        },
        {
          "name": "stderr",
          "output_type": "stream",
          "text": [
            "100%|██████████| 1000/1000 [57:17<00:00,  3.44s/it]"
          ]
        },
        {
          "name": "stdout",
          "output_type": "stream",
          "text": [
            "\n",
            "\n",
            " The lowest RMSE=4.553501400021746 was found using the config {'beta': 0.16964633856957873, 'rho': 0.7326869726661309, 'k': 11}\n"
          ]
        },
        {
          "name": "stderr",
          "output_type": "stream",
          "text": [
            "\n"
          ]
        }
      ],
      "source": [
        "# testing random search on preferential attachment graph with normal distributions\n",
        "best_config, best_rmse, best_graph = random_search(k_int=[5, 15], beta_int=[0.01, 0.99], rho_int=[0.01, 0.99],\n",
        "                                                   n_nodes=n_nodes, vacc_cum=vacc_cum, target=target_infected,\n",
        "                                                   seed=SEED, graphs=graphs)\n",
        "\n",
        "print(\"\\n\\n\", f\"The lowest RMSE={best_rmse} was found using the config {best_config}\")"
      ]
    },
    {
      "cell_type": "code",
      "execution_count": null,
      "metadata": {
        "colab": {
          "base_uri": "https://localhost:8080/",
          "height": 284
        },
        "id": "KQwcJDYgfqpx",
        "outputId": "f7d1a8de-0b0c-4cef-96c2-9bd9e620e2e1"
      },
      "outputs": [],
      "source": [
        "# simulate the infection\n",
        "_, new_infected_U, _ = simulate_SIRV(graphs[15], n_simulations=10,\n",
        "                                        weeks=15,\n",
        "                                        n_init_infected=target_infected[0],\n",
        "                                        beta=0.1,\n",
        "                                        rho=0.67,\n",
        "                                        conditions=conditions,\n",
        "                                        vacc_cum=vacc_cum,\n",
        "                                        seed=SEED)\n",
        "_, new_infected_N, _ = simulate_SIRV(graphs[11], n_simulations=10,\n",
        "                                        weeks=15,\n",
        "                                        n_init_infected=target_infected[0],\n",
        "                                        beta=0.16964633856957873,\n",
        "                                        rho=0.7326869726661309,\n",
        "                                        conditions=conditions,\n",
        "                                        vacc_cum=vacc_cum,\n",
        "                                        seed=SEED)\n",
        "\n",
        "# compute the average over the simulations\n",
        "avg_new_infected_U = np.array(new_infected_U).mean(axis=0)\n",
        "avg_new_infected_N = np.array(new_infected_N).mean(axis=0)\n",
        "\n",
        "plt.title(\"New infected curve best fit with different algorithms\")\n",
        "plt.plot(range(16), avg_new_infected_U, label=\"Approx. new infected unif.\")\n",
        "plt.plot(range(16), avg_new_infected_N, label=\"Approx. new infected norm.\")\n",
        "plt.plot(range(16), target_infected, label=\"Real new infected\")\n",
        "plt.plot(range(16), avg_new_infected, label=\"Approx. new infected prev. algorithm\")\n",
        "plt.legend(loc=\"lower left\")\n",
        "\n",
        "plt.savefig(\"./p5_comparison.pdf\", bbox_inches=\"tight\")"
      ]
    },
    {
      "cell_type": "markdown",
      "metadata": {
        "id": "nMNhHyBUJ1KM"
      },
      "source": [
        "# COLORING"
      ]
    },
    {
      "cell_type": "markdown",
      "metadata": {
        "id": "9qPGlJ1c9fYr"
      },
      "source": [
        "## Coloring.a"
      ]
    },
    {
      "cell_type": "code",
      "execution_count": null,
      "metadata": {
        "colab": {
          "base_uri": "https://localhost:8080/",
          "height": 248
        },
        "id": "bZU_Sd2v9i5B",
        "outputId": "1fc4c222-984d-4263-9da5-5a8af35ec4d8"
      },
      "outputs": [],
      "source": [
        "# build the graph\n",
        "G = nx.Graph()\n",
        "for i in range(9):\n",
        "    G.add_edge(i, i+1)\n",
        "\n",
        "#plot\n",
        "pos = nx.circular_layout(G)\n",
        "nx.draw_networkx_nodes(G, pos, linewidths=3, edgecolors=\"#000000\")\n",
        "nx.draw(G, pos, node_color=\"#ffffff\", with_labels=True)\n",
        "\n",
        "plt.savefig(\"./c1_line_graph.pdf\", bbox_inches=\"tight\")"
      ]
    },
    {
      "cell_type": "code",
      "execution_count": null,
      "metadata": {
        "id": "UERtu57hNkf0"
      },
      "outputs": [],
      "source": [
        "def coloring_dynamic(iterations, states, G, init_state, eta, U, cost, seed=None):\n",
        "    \"\"\"\n",
        "    This function is used to simulate the coloring dynamic through utility. \n",
        "    \"\"\"\n",
        "\n",
        "    utilities = []\n",
        "\n",
        "    for node, state in zip(G.nodes(), init_state):\n",
        "        G.nodes[node][\"state\"] = state\n",
        "\n",
        "    best_state = [G.nodes[node][\"state\"] for node in G.nodes()]\n",
        "    best_utility = np.inf\n",
        "\n",
        "    # save a state every 25 for the plot\n",
        "    states25 = [[G.nodes[node][\"state\"] for node in G.nodes()]]\n",
        "\n",
        "    # for reproducibility\n",
        "    if seed is not None:\n",
        "        np.random.seed(seed)\n",
        "\n",
        "    # for the iterations required\n",
        "    for it in tqdm(range(1, iterations+1)):\n",
        "        # choose a node\n",
        "        chosen = np.random.choice(G.nodes())\n",
        "        # select its neighbors\n",
        "        neighs = list(G.neighbors(chosen))\n",
        "\n",
        "        # get the actual state\n",
        "        X = np.array([G.nodes[n][\"state\"] for n in G.nodes()])\n",
        "\n",
        "        # compute the probabilities for each new possible state\n",
        "        ps = np.exp(-eta(it) * cost(X, G, states, chosen))\n",
        "        p = np.array(ps) / np.sum(ps)\n",
        "        # draw the new state\n",
        "        new_state = np.random.choice(states, p=p)\n",
        "\n",
        "        # set the new state\n",
        "        G.nodes[chosen][\"state\"] = new_state\n",
        "        X[chosen] = new_state\n",
        "\n",
        "        # save the state for plots\n",
        "        if (it + 1) % 25 == 0:\n",
        "            states25.append(deepcopy(X))\n",
        "        \n",
        "        # save utility for plots\n",
        "        utilities.append(U(X, G, states))\n",
        "\n",
        "        if utilities[-1] < best_utility:\n",
        "            best_state = deepcopy(X)\n",
        "            best_utility = utilities[-1]\n",
        "\n",
        "        # if the utility has reached 0 stop the process\n",
        "        if utilities[-1] == 0:\n",
        "            states25.append(deepcopy(X))\n",
        "            utilities.append(U(X, G, states))\n",
        "            break\n",
        "\n",
        "    return utilities, states25, it-1, best_state"
      ]
    },
    {
      "cell_type": "code",
      "execution_count": null,
      "metadata": {
        "colab": {
          "base_uri": "https://localhost:8080/"
        },
        "id": "oRX3icUs_Bw5",
        "outputId": "4cd7c748-1738-4c10-e2f5-e07d365b9c47"
      },
      "outputs": [
        {
          "name": "stderr",
          "output_type": "stream",
          "text": [
            " 28%|██▊       | 138/500 [00:00<00:00, 2969.14it/s]\n"
          ]
        }
      ],
      "source": [
        "def eta(t):\n",
        "    return t / 100\n",
        "\n",
        "def U(X, G, states):\n",
        "    tot = 0\n",
        "    for i in range(len(G.nodes)):\n",
        "        tot += cost(X, G, states, i)[X[i]]\n",
        "    return 0.5 * tot\n",
        "\n",
        "def cost(X, G, states, chosen):\n",
        "    neighs = list(G.neighbors(chosen))\n",
        "    return np.array([np.sum(X[neighs] == state) for state in states])\n",
        "\n",
        "colors = {0: \"red\", 1: \"green\"}\n",
        "\n",
        "utilities, states25, final_iteration, _ = coloring_dynamic(500, [0, 1], G, [0]*len(G.nodes),\n",
        "                                        eta, U, cost, seed=SEED)"
      ]
    },
    {
      "cell_type": "code",
      "execution_count": null,
      "metadata": {
        "colab": {
          "base_uri": "https://localhost:8080/",
          "height": 518
        },
        "id": "m_n7aTOfC5pT",
        "outputId": "5e928753-9bc5-4250-be17-f6b8970853dd"
      },
      "outputs": [],
      "source": [
        "fig, ax = plt.subplots(2, 4, figsize=(20, 8))\n",
        "for i in range(len(states25)-1):\n",
        "    iteration = i * 25\n",
        "    j, k = int(i / 4), i % 4\n",
        "    \n",
        "    ax[j][k].set_title(f\"State at iteration {iteration}\")\n",
        "    cols = [colors[states25[i][n]] for n in G.nodes]\n",
        "    nx.draw_networkx_nodes(G, pos, linewidths=3, edgecolors=\"#000000\", ax=ax[j][k])\n",
        "    nx.draw(G, pos, node_color=cols, with_labels=True, ax=ax[j][k])\n",
        "\n",
        "ax[1][-2].set_title(f\"State at iteration {final_iteration}\")\n",
        "cols = [colors[states25[-1][n]] for n in G.nodes]\n",
        "nx.draw_networkx_nodes(G, pos, linewidths=3, edgecolors=\"#000000\", ax=ax[-1][-2])\n",
        "nx.draw(G, pos, node_color=cols, with_labels=True, ax=ax[-1][-2])\n",
        "\n",
        "ax[-1][-1].set_title(f\"Utility trend\")\n",
        "ax[-1][-1].plot([i+1 for i in range(len(utilities))], utilities)\n",
        "ax[-1][-1].set_xlabel(\"Iteration\")\n",
        "ax[-1][-1].set_ylabel(\"Utility\")\n",
        "\n",
        "plt.savefig(\"./c1_coloring_on_line.pdf\", _bbox_inches=\"tight\")"
      ]
    },
    {
      "cell_type": "code",
      "execution_count": null,
      "metadata": {
        "colab": {
          "base_uri": "https://localhost:8080/"
        },
        "id": "uUZnpxe6ESmb",
        "outputId": "4f554181-8926-424e-dd67-0950096a91c0"
      },
      "outputs": [
        {
          "name": "stderr",
          "output_type": "stream",
          "text": [
            "100%|██████████| 500/500 [00:00<00:00, 3091.77it/s]\n",
            "100%|██████████| 500/500 [00:00<00:00, 2937.95it/s]\n",
            " 28%|██▊       | 138/500 [00:00<00:00, 2196.79it/s]\n",
            " 28%|██▊       | 141/500 [00:00<00:00, 2866.93it/s]\n",
            " 36%|███▌      | 181/500 [00:00<00:00, 3127.01it/s]\n",
            " 36%|███▌      | 181/500 [00:00<00:00, 2852.45it/s]\n",
            "100%|██████████| 500/500 [00:00<00:00, 2663.26it/s]\n",
            "100%|██████████| 500/500 [00:00<00:00, 3091.28it/s]\n",
            " 28%|██▊       | 142/500 [00:00<00:00, 2852.54it/s]\n",
            " 28%|██▊       | 141/500 [00:00<00:00, 2943.03it/s]\n",
            " 36%|███▌      | 181/500 [00:00<00:00, 3137.90it/s]\n",
            " 36%|███▌      | 181/500 [00:00<00:00, 2573.75it/s]\n"
          ]
        }
      ],
      "source": [
        "results = []\n",
        "descriptions = [r\"$\\eta(t)=t/1000$\", r\"$\\eta(t)=t/500$\", r\"$\\eta(t)=t/100$\", r\"$\\eta(t)=t/50$\", r\"$\\eta(t)=t/10$\", r\"$\\eta(t)=t$\",\n",
        "                r\"$\\eta(t)=0.01$\", r\"$\\eta(t)=0.5$\", r\"$\\eta(t)=1$\", r\"$\\eta(t)=2$\", r\"$\\eta(t)=5$\", r\"$\\eta(t)=100$\"]\n",
        "\n",
        "for eta in [lambda t: t/1000, lambda t: t/500, lambda t: t/100, lambda t: t/50, lambda t: t/10, lambda t: t,\n",
        "            lambda t: 0.01, lambda t: 0.5, lambda t: 1, lambda t: 2, lambda t: 5, lambda t: 10]:\n",
        "    utilities, _, _, _ = coloring_dynamic(500, [0, 1], G, [0]*len(G.nodes),\n",
        "                                    eta, U, cost, seed=SEED)\n",
        "    results.append(utilities)"
      ]
    },
    {
      "cell_type": "code",
      "execution_count": null,
      "metadata": {
        "colab": {
          "base_uri": "https://localhost:8080/",
          "height": 629
        },
        "id": "Z6VNbhZhE829",
        "outputId": "d4274aa1-25e8-4cb3-ff23-33c756fa0fbc"
      },
      "outputs": [],
      "source": [
        "fig, ax = plt.subplots(2, 6, figsize=(25, 10))\n",
        "\n",
        "for i in range(2):\n",
        "    for j in range(6):\n",
        "        ix = 6 * i + j\n",
        "        ax[i][j].set_title(descriptions[ix])\n",
        "        ax[i][j].plot(range(len(results[ix])), results[ix], label=r\"$U(t)$\")\n",
        "        ax[i][j].set_ylabel(\"Utility\")\n",
        "        ax[i][j].set_xlabel(\"t\")\n",
        "        ax[i][j].set_ylim([-0.5, 9])\n",
        "\n",
        "plt.savefig(\"./c1_utilities.pdf\", bbox_inches=\"tight\")"
      ]
    },
    {
      "cell_type": "code",
      "execution_count": null,
      "metadata": {
        "colab": {
          "base_uri": "https://localhost:8080/"
        },
        "id": "jzovTdeu8ZbW",
        "outputId": "bec21f4c-9336-459b-8663-8e217b7e3d6b"
      },
      "outputs": [
        {
          "name": "stdout",
          "output_type": "stream",
          "text": [
            "5 1.0\n",
            "5 1.0\n",
            "138 0.0\n",
            "141 0.0\n",
            "181 0.0\n",
            "181 0.0\n",
            "5 1.0\n",
            "5 1.0\n",
            "142 0.0\n",
            "141 0.0\n",
            "181 0.0\n",
            "181 0.0\n"
          ]
        }
      ],
      "source": [
        "for u in results:\n",
        "    print(np.argmin(u), u[np.argmin(u)])"
      ]
    },
    {
      "cell_type": "markdown",
      "metadata": {
        "id": "vPeNd40WM9l0"
      },
      "source": [
        "## Coloring.b"
      ]
    },
    {
      "cell_type": "code",
      "execution_count": null,
      "metadata": {
        "id": "O2hlFIUPJ0Ca"
      },
      "outputs": [],
      "source": [
        "A = np.loadtxt(\"wifi.mat\")\n",
        "coordinates = np.loadtxt(\"coords.mat\")\n",
        "\n",
        "G = nx.from_numpy_matrix(A, create_using=nx.Graph)\n",
        "pos = {}\n",
        "for node in G.nodes():\n",
        "    pos[node] = coordinates[node, :]"
      ]
    },
    {
      "cell_type": "code",
      "execution_count": null,
      "metadata": {
        "colab": {
          "base_uri": "https://localhost:8080/"
        },
        "id": "vOgWgKL-RUJb",
        "outputId": "0d862ca9-d0de-4f4e-8b87-4743fa53e6f1"
      },
      "outputs": [
        {
          "name": "stderr",
          "output_type": "stream",
          "text": [
            "100%|██████████| 5000/5000 [00:59<00:00, 84.69it/s]\n"
          ]
        }
      ],
      "source": [
        "def eta(t):\n",
        "    return t / 100\n",
        "\n",
        "def cost(X, G, states, chosen):\n",
        "    neighs = list(G.neighbors(chosen))\n",
        "    return np.array([np.sum([max(2 - abs(x - state), 0) for x in X[neighs]]) for state in states])\n",
        "\n",
        "def U(X, G, states):\n",
        "    tot = 0\n",
        "    for i in range(len(G.nodes)):\n",
        "        tot += cost(X, G, states, i)[X[i]]\n",
        "    return 0.5 * tot\n",
        "\n",
        "\n",
        "\n",
        "colors = {0: \"red\", 1: \"green\", 2: \"blue\", 3: \"yellow\",\n",
        "          4: \"magenta\", 5: \"cyan\", 6: \"white\", 7: \"black\"}\n",
        "\n",
        "utilities, states25, final_iteration, best_state = coloring_dynamic(5000, [k for k in colors.keys()], G, [0]*len(G.nodes), eta, U, cost, seed=SEED)"
      ]
    },
    {
      "cell_type": "code",
      "execution_count": null,
      "metadata": {
        "colab": {
          "base_uri": "https://localhost:8080/",
          "height": 301
        },
        "id": "6Lt3pl1-7YRE",
        "outputId": "26dd4d54-02ff-44e9-b26d-5bc3c0d08814"
      },
      "outputs": [],
      "source": [
        "plt.plot(range(final_iteration+1), utilities)\n",
        "plt.xlabel(\"Iteration\")\n",
        "plt.ylabel(\"Utility\")\n",
        "plt.title(\"Utility trend\")\n",
        "\n",
        "plt.savefig(\"./c2_utility_trend.pdf\", bbox_inches=\"tight\")"
      ]
    },
    {
      "cell_type": "code",
      "execution_count": null,
      "metadata": {
        "colab": {
          "base_uri": "https://localhost:8080/"
        },
        "id": "Ji5pXUFoMEhy",
        "outputId": "df26e8a7-a78e-4ece-9ff6-3e308de851ea"
      },
      "outputs": [
        {
          "data": {
            "text/plain": [
              "(981, 4.0)"
            ]
          },
          "execution_count": 126,
          "metadata": {},
          "output_type": "execute_result"
        }
      ],
      "source": [
        "np.argmin(utilities), utilities[np.argmin(utilities)]"
      ]
    },
    {
      "cell_type": "code",
      "execution_count": null,
      "metadata": {
        "colab": {
          "base_uri": "https://localhost:8080/",
          "height": 373
        },
        "id": "RX8b__nETB_Y",
        "outputId": "ba98d4f0-f36e-4f64-efe3-41063f603bce"
      },
      "outputs": [],
      "source": [
        "fig, ax = plt.subplots(1, 2, figsize=(14, 6))\n",
        "\n",
        "ax[0].set_title(\"Initial state\")\n",
        "nx.draw(G, pos, node_color=\"red\", node_size=100, edgecolors=\"#000000\", ax=ax[0])\n",
        "\n",
        "ax[1].set_title(\"Best state reached\")\n",
        "cols = [colors[best_state[n]] for n in G.nodes()]\n",
        "nx.draw(G, pos, node_color=cols, node_size=100, edgecolors=\"#000000\", ax=ax[1])\n",
        "\n",
        "plt.savefig(\"./c2_init_best_states.pdf\", bbox_inches=\"tight\")"
      ]
    },
    {
      "cell_type": "code",
      "execution_count": null,
      "metadata": {
        "colab": {
          "base_uri": "https://localhost:8080/"
        },
        "id": "rZgpde7nBhvj",
        "outputId": "283eb355-34c0-4790-ff8d-985d6cd0d5d7"
      },
      "outputs": [
        {
          "name": "stderr",
          "output_type": "stream",
          "text": [
            "100%|██████████| 5000/5000 [00:57<00:00, 87.41it/s]\n",
            "100%|██████████| 5000/5000 [00:57<00:00, 87.71it/s]\n",
            "100%|██████████| 5000/5000 [00:57<00:00, 87.48it/s]\n",
            "100%|██████████| 5000/5000 [01:02<00:00, 79.99it/s]\n",
            "100%|██████████| 5000/5000 [00:57<00:00, 86.87it/s]\n",
            "100%|██████████| 5000/5000 [00:57<00:00, 86.84it/s]\n",
            "100%|██████████| 5000/5000 [01:02<00:00, 80.44it/s]\n",
            "100%|██████████| 5000/5000 [00:57<00:00, 87.64it/s]\n",
            "100%|██████████| 5000/5000 [00:57<00:00, 87.32it/s]\n",
            "100%|██████████| 5000/5000 [00:57<00:00, 87.54it/s]\n",
            "100%|██████████| 5000/5000 [01:01<00:00, 80.70it/s]\n",
            "100%|██████████| 5000/5000 [00:57<00:00, 87.05it/s]\n"
          ]
        }
      ],
      "source": [
        "results = []\n",
        "descriptions = [r\"$\\eta(t)=t/1000$\", r\"$\\eta(t)=t/500$\", r\"$\\eta(t)=t/200$\", r\"$\\eta(t)=t/50$\", r\"$\\eta(t)=t/30$\", r\"$\\eta(t)=t/20$\",\n",
        "                r\"$\\eta(t)=0.01$\", r\"$\\eta(t)=0.5$\", r\"$\\eta(t)=1$\", r\"$\\eta(t)=2$\", r\"$\\eta(t)=5$\", r\"$\\eta(t)=100$\"]\n",
        "\n",
        "for eta in [lambda t: t/1000, lambda t: t/500, lambda t: t/200, lambda t: t/50, lambda t: t/30, lambda t: t/20,\n",
        "            lambda t: 0.01, lambda t: 0.5, lambda t: 1, lambda t: 2, lambda t: 5, lambda t: 10]:\n",
        "    utilities, _, _, _ = coloring_dynamic(5000, list(colors.keys()), G, [0]*len(G.nodes),\n",
        "                                    eta, U, cost, seed=SEED)\n",
        "    results.append(utilities)"
      ]
    },
    {
      "cell_type": "code",
      "execution_count": null,
      "metadata": {
        "colab": {
          "base_uri": "https://localhost:8080/"
        },
        "id": "9kE6zGg77HV9",
        "outputId": "ff3474b7-9b55-4a1e-d564-2c7b834dfb95"
      },
      "outputs": [
        {
          "name": "stderr",
          "output_type": "stream",
          "text": [
            "100%|██████████| 5000/5000 [01:02<00:00, 80.27it/s]\n"
          ]
        }
      ],
      "source": [
        "utilities, _, _, _ = coloring_dynamic(5000, list(colors.keys()), G, [0]*len(G.nodes),\n",
        "                                    lambda t: t/20, U, cost, seed=SEED)\n",
        "results[5] = utilities"
      ]
    },
    {
      "cell_type": "code",
      "execution_count": null,
      "metadata": {
        "colab": {
          "base_uri": "https://localhost:8080/",
          "height": 629
        },
        "id": "ejeyg2VKLuac",
        "outputId": "7972cab1-aa7e-487e-a102-f121a6b56ca6"
      },
      "outputs": [],
      "source": [
        "fig, ax = plt.subplots(2, 6, figsize=(30, 10))\n",
        "\n",
        "for i in range(2):\n",
        "    for j in range(6):\n",
        "        ix = 6 * i + j\n",
        "        ax[i][j].set_title(descriptions[ix])\n",
        "        ax[i][j].plot(range(len(results[ix])), results[ix], label=r\"$U(t)$\")\n",
        "        ax[i][j].set_ylabel(\"Utility\")\n",
        "        ax[i][j].set_xlabel(\"t\")\n",
        "        ax[i][j].set_ylim([-5, 300])\n",
        "\n",
        "plt.savefig(\"./c2_utilities.pdf\", bbox_inches=\"tight\")"
      ]
    },
    {
      "cell_type": "code",
      "execution_count": null,
      "metadata": {
        "colab": {
          "base_uri": "https://localhost:8080/"
        },
        "id": "N3oQKYRFNdfE",
        "outputId": "140ebddf-1536-4098-c4aa-164f8fc41f51"
      },
      "outputs": [
        {
          "name": "stdout",
          "output_type": "stream",
          "text": [
            "3456 4.0\n",
            "2329 4.0\n",
            "978 4.0\n",
            "821 4.0\n",
            "218 4.0\n",
            "218 4.0\n",
            "4575 40.0\n",
            "3532 24.0\n",
            "4863 16.0\n",
            "2671 6.0\n",
            "318 4.0\n",
            "218 4.0\n"
          ]
        }
      ],
      "source": [
        "for u in results:\n",
        "    print(np.argmin(u), u[np.argmin(u)])"
      ]
    },
    {
      "cell_type": "code",
      "execution_count": null,
      "metadata": {
        "id": "r0X7JcdH8Kk5"
      },
      "outputs": [],
      "source": []
    }
  ],
  "metadata": {
    "colab": {
      "collapsed_sections": [
        "9xUmTNI7laL1",
        "7x2WwBfCa5x-",
        "vEPwtn18zmpM",
        "U8ZtGLsBAe7v",
        "a8m42iEREJFG",
        "B0LqAefm7CRc",
        "1zox_SmRbhL1"
      ],
      "provenance": []
    },
    "kernelspec": {
      "display_name": "Python 3",
      "name": "python3"
    },
    "language_info": {
      "name": "python"
    }
  },
  "nbformat": 4,
  "nbformat_minor": 0
}
