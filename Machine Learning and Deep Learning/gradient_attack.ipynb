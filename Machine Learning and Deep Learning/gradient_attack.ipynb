{
  "cells": [
    {
      "cell_type": "code",
      "execution_count": 3,
      "metadata": {
        "id": "-rDlAajn3Bi8"
      },
      "outputs": [],
      "source": [
        "import torch\n",
        "import matplotlib.pyplot as plt\n",
        "\n",
        "import invgrad\n",
        "from models.resnet import ResNet50\n",
        "from utils import datasets"
      ]
    },
    {
      "cell_type": "code",
      "execution_count": 4,
      "metadata": {
        "id": "PcspmwBg3BjB"
      },
      "outputs": [],
      "source": [
        "num_images = 1"
      ]
    },
    {
      "cell_type": "code",
      "execution_count": 19,
      "metadata": {
        "colab": {
          "base_uri": "https://localhost:8080/"
        },
        "id": "4OMV_Ay63BjC",
        "outputId": "187c7dff-8487-4150-8d8e-d6c38ebeffa8"
      },
      "outputs": [
        {
          "name": "stdout",
          "output_type": "stream",
          "text": [
            "Currently evaluating -------------------------------:\n",
            "Tuesday, 17. May 2022 04:55PM\n",
            "CPUs: 1, GPUs: 1 on d8ead4517a2d.\n",
            "GPU : Tesla T4\n",
            "Files already downloaded and verified\n",
            "Files already downloaded and verified\n"
          ]
        }
      ],
      "source": [
        "setup = invgrad.utils.system_startup()\n",
        "defs = invgrad.training_strategy('conservative')\n",
        "\n",
        "loss_fn, trainloader, validloader =  invgrad.construct_dataloaders('CIFAR10', defs)\n",
        "\n",
        "checkpoint = torch.load(\"/kaggle/input/fedavg-100pt/fedavg_100.pt\")  # not available on github due to size restrictions\n",
        "model = ResNet50().to(**setup)\n",
        "model.load_state_dict(checkpoint[\"model_state_dict\"])\n",
        "model.eval()"
      ]
    },
    {
      "cell_type": "code",
      "execution_count": 20,
      "metadata": {
        "id": "kEpN5lxD3BjD"
      },
      "outputs": [],
      "source": [
        "dm = torch.as_tensor(datasets.cifar10_mean, **setup)[:, None, None]\n",
        "ds = torch.as_tensor(datasets.cifar10_std, **setup)[:, None, None]\n",
        "\n",
        "def plot(tensor, filename=None):\n",
        "    tensor = tensor.clone().detach()\n",
        "    tensor.mul_(ds).add_(dm).clamp_(0, 1)\n",
        "    if tensor.shape[0] == 1:\n",
        "        plt.imshow(tensor[0].permute(1, 2, 0).cpu())\n",
        "    else:\n",
        "        fig, axes = plt.subplots(1, tensor.shape[0], figsize=(12, tensor.shape[0]*12))\n",
        "        for i, im in enumerate(tensor):\n",
        "            axes[i].imshow(im.permute(1, 2, 0).cpu())\n",
        "\n",
        "    if filename is not None:\n",
        "        plt.savefig(filename, bbox_inches=\"tight\")"
      ]
    },
    {
      "cell_type": "code",
      "execution_count": 22,
      "metadata": {
        "id": "V-LWDuEv3BjG"
      },
      "outputs": [],
      "source": [
        "ground_truth, labels = [], []\n",
        "idx = 0  # ?\n",
        "while len(labels) < num_images:\n",
        "    img, label = validloader.dataset[idx]\n",
        "    idx += 1\n",
        "    if label not in labels:\n",
        "        labels.append(torch.as_tensor((label,), device=setup['device']))\n",
        "        ground_truth.append(img.to(**setup))\n",
        "ground_truth = torch.stack(ground_truth)\n",
        "labels = torch.cat(labels)"
      ]
    },
    {
      "cell_type": "code",
      "execution_count": 23,
      "metadata": {
        "colab": {
          "base_uri": "https://localhost:8080/",
          "height": 283
        },
        "id": "iy-rfdVP3BjH",
        "outputId": "1f467a99-3c3e-4cf2-ea96-6861ffa0f02e",
        "scrolled": true
      },
      "outputs": [
        {
          "name": "stdout",
          "output_type": "stream",
          "text": [
            "['automobile']\n"
          ]
        },
        {
          "data": {
            "image/png": "[encoded data removed]",
            "text/plain": [
              "<Figure size 432x288 with 1 Axes>"
            ]
          },
          "metadata": {
            "needs_background": "light"
          },
          "output_type": "display_data"
        }
      ],
      "source": [
        "plot(ground_truth)\n",
        "print([validloader.dataset.classes[l] for l in labels])"
      ]
    },
    {
      "cell_type": "code",
      "execution_count": 24,
      "metadata": {
        "id": "8wI0q0Hy3BjH"
      },
      "outputs": [],
      "source": [
        "local_lr = 1e-4\n",
        "local_steps = 5\n",
        "use_updates = True"
      ]
    },
    {
      "cell_type": "code",
      "execution_count": 25,
      "metadata": {
        "id": "O8DEt-Ax3BjH"
      },
      "outputs": [],
      "source": [
        "model.zero_grad()\n",
        "target_loss, _, _ = loss_fn(model(ground_truth), labels)\n",
        "input_parameters = invgrad.reconstruction_algorithms.loss_steps(model, ground_truth, labels, \n",
        "                                                        lr=local_lr, local_steps=local_steps,\n",
        "                                                                   use_updates=use_updates)\n",
        "input_parameters = [p.detach() for p in input_parameters]"
      ]
    },
    {
      "cell_type": "code",
      "execution_count": 28,
      "metadata": {
        "colab": {
          "base_uri": "https://localhost:8080/",
          "height": 437
        },
        "id": "7vRwmaQH3BjI",
        "outputId": "44c8ffc6-0d27-4d87-dd9a-e4f165a9d03e"
      },
      "outputs": [
        {
          "name": "stdout",
          "output_type": "stream",
          "text": [
            "It: 0. Rec. loss: 0.0213.\n",
            "It: 500. Rec. loss: 0.0056.\n",
            "It: 1000. Rec. loss: 0.0055.\n",
            "It: 1500. Rec. loss: 0.0054.\n",
            "It: 2000. Rec. loss: 0.0055.\n",
            "Recovery interrupted manually in iteration 2151!\n",
            "Choosing optimal result ...\n",
            "Optimal result score: 0.0054\n",
            "Total time: 929.7540602684021.\n"
          ]
        },
        {
          "data": {
            "image/png": "[encoded data removed]",
            "text/plain": [
              "<Figure size 432x288 with 1 Axes>"
            ]
          },
          "metadata": {
            "needs_background": "light"
          },
          "output_type": "display_data"
        }
      ],
      "source": [
        "config = dict(signed=True,\n",
        "              boxed=True,\n",
        "              cost_fn='sim',\n",
        "              indices='def',\n",
        "              weights='equal',\n",
        "              lr=0.1,\n",
        "              optim='adam',\n",
        "              restarts=1,\n",
        "              max_iterations=8_000,\n",
        "              total_variation=1e-6,\n",
        "              init='randn',\n",
        "              filter='none',\n",
        "              lr_decay=True,\n",
        "              scoring_choice='loss')\n",
        "\n",
        "rec_machine = invgrad.FedAvgReconstructor(model, (dm, ds), local_steps, local_lr, config,\n",
        "                                             use_updates=use_updates)\n",
        "output, _ = rec_machine.reconstruct(input_parameters, labels, img_shape=(3, 32, 32))\n",
        "\n",
        "plot(output)"
      ]
    }
  ],
  "metadata": {
    "accelerator": "GPU",
    "colab": {
      "name": "Recovery from Weight Updates-OurVersion.ipynb",
      "provenance": []
    },
    "kernelspec": {
      "display_name": "Python 3",
      "name": "python3"
    },
    "language_info": {
      "name": "python"
    }
  },
  "nbformat": 4,
  "nbformat_minor": 0
}
