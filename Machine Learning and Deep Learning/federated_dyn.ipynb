{
  "cells": [
    {
      "cell_type": "code",
      "execution_count": 3,
      "metadata": {
        "execution": {
          "iopub.execute_input": "2022-06-07T17:44:40.967683Z",
          "iopub.status.busy": "2022-06-07T17:44:40.966645Z",
          "iopub.status.idle": "2022-06-07T17:44:43.263541Z",
          "shell.execute_reply": "2022-06-07T17:44:43.262560Z",
          "shell.execute_reply.started": "2022-06-07T17:44:40.967635Z"
        },
        "id": "A6PMtepVxfZi",
        "trusted": true
      },
      "outputs": [],
      "source": [
        "import torch\n",
        "import numpy as np\n",
        "import pandas as pd\n",
        "\n",
        "from models.resnet import ResNet50\n",
        "from utils.datasets import get_datasets\n",
        "from utils.sampling import get_user_groups\n",
        "from utils.reproducibility import make_it_reproducible\n",
        "from feddyn.components import FedDynServer, FedDynClient"
      ]
    },
    {
      "cell_type": "code",
      "execution_count": null,
      "metadata": {
        "colab": {
          "base_uri": "https://localhost:8080/"
        },
        "execution": {
          "iopub.execute_input": "2022-06-07T17:44:44.946293Z",
          "iopub.status.busy": "2022-06-07T17:44:44.945612Z",
          "iopub.status.idle": "2022-06-07T17:44:45.019441Z",
          "shell.execute_reply": "2022-06-07T17:44:45.018439Z",
          "shell.execute_reply.started": "2022-06-07T17:44:44.946256Z"
        },
        "id": "jJp2rm-IxfZk",
        "outputId": "bb17bba8-bec5-4a2e-c993-5e45ec6555e0",
        "trusted": true
      },
      "outputs": [],
      "source": [
        "device = 'cuda' if torch.cuda.is_available else 'cpu'"
      ]
    },
    {
      "cell_type": "code",
      "execution_count": 26,
      "metadata": {
        "execution": {
          "iopub.execute_input": "2022-06-07T17:44:50.053054Z",
          "iopub.status.busy": "2022-06-07T17:44:50.052193Z",
          "iopub.status.idle": "2022-06-07T17:44:50.058789Z",
          "shell.execute_reply": "2022-06-07T17:44:50.057938Z",
          "shell.execute_reply.started": "2022-06-07T17:44:50.053020Z"
        },
        "id": "KFcXybazxfZl",
        "trusted": true
      },
      "outputs": [],
      "source": [
        "# setting parameters\n",
        "ROUNDS = 200\n",
        "alpha = 0.01\n",
        "tot_clients = 100\n",
        "participation = 0.1\n",
        "cuda = device==\"cuda\"\n",
        "norm = \"Batch Norm\"\n",
        "iid = True\n",
        "unbalanced = False\n",
        "seed = 0\n",
        "\n",
        "local_epochs = 5\n",
        "lr = 0.1\n",
        "weight_decay = 1e-3\n",
        "momentum = 0\n",
        "clip_value=10"
      ]
    },
    {
      "cell_type": "code",
      "execution_count": 27,
      "metadata": {
        "execution": {
          "iopub.execute_input": "2022-06-07T17:44:54.786856Z",
          "iopub.status.busy": "2022-06-07T17:44:54.786032Z",
          "iopub.status.idle": "2022-06-07T17:44:54.791812Z",
          "shell.execute_reply": "2022-06-07T17:44:54.790779Z",
          "shell.execute_reply.started": "2022-06-07T17:44:54.786809Z"
        },
        "id": "Xsvc3-CExfZm",
        "trusted": true
      },
      "outputs": [],
      "source": [
        "make_it_reproducible(seed)"
      ]
    },
    {
      "cell_type": "code",
      "execution_count": 28,
      "metadata": {
        "colab": {
          "base_uri": "https://localhost:8080/"
        },
        "execution": {
          "iopub.execute_input": "2022-06-07T17:44:56.794394Z",
          "iopub.status.busy": "2022-06-07T17:44:56.793785Z",
          "iopub.status.idle": "2022-06-07T17:45:03.387636Z",
          "shell.execute_reply": "2022-06-07T17:45:03.386753Z",
          "shell.execute_reply.started": "2022-06-07T17:44:56.794361Z"
        },
        "id": "Lmtdq9ZxxfZo",
        "outputId": "f959fe8a-fe84-4488-fc78-c358f02bfba3",
        "trusted": true
      },
      "outputs": [
        {
          "name": "stdout",
          "output_type": "stream",
          "text": [
            "Files already downloaded and verified\n",
            "Files already downloaded and verified\n"
          ]
        }
      ],
      "source": [
        "trainset, testset = get_datasets(augmentation=True)\n",
        "user_groups, _ = get_user_groups(trainset, iid=iid, unbalanced=unbalanced, tot_users=tot_clients)"
      ]
    },
    {
      "cell_type": "code",
      "execution_count": 29,
      "metadata": {
        "execution": {
          "iopub.execute_input": "2022-06-07T17:45:03.389643Z",
          "iopub.status.busy": "2022-06-07T17:45:03.389209Z",
          "iopub.status.idle": "2022-06-07T17:45:31.848395Z",
          "shell.execute_reply": "2022-06-07T17:45:31.847560Z",
          "shell.execute_reply.started": "2022-06-07T17:45:03.389608Z"
        },
        "id": "LWe7gCFrxfZp",
        "trusted": true
      },
      "outputs": [],
      "source": [
        "server = FedDynServer(ResNet50(norm), alpha, tot_clients, device, testset, seed)\n",
        "\n",
        "clients = []\n",
        "for cid in range(tot_clients):\n",
        "    clients.append(FedDynClient(device, lr, weight_decay, momentum, alpha, cid, local_epochs, trainset,\n",
        "                                user_groups[cid], clip_value))"
      ]
    },
    {
      "cell_type": "code",
      "execution_count": null,
      "metadata": {
        "colab": {
          "base_uri": "https://localhost:8080/",
          "height": 877
        },
        "id": "4QxOExK-FBhY",
        "outputId": "e03e3472-d6df-435c-c0cf-707754fa6900"
      },
      "outputs": [],
      "source": [
        "train, test = [], []\n",
        "for com_round in range(1, ROUNDS+1):\n",
        "    print(f\"Running communication round {com_round}...\")\n",
        "    \n",
        "    server_state_dict = server.get_server_state()\n",
        "    \n",
        "    active_clients_models = []\n",
        "    \n",
        "    m = int(max(1, tot_clients * participation))\n",
        "    chosen_users = np.random.choice(range(tot_clients), m, replace=False)\n",
        "    \n",
        "    for idx in chosen_users:\n",
        "        state, metric = clients[idx].train(ResNet50(norm), server_state_dict, com_round)\n",
        "        active_clients_models.append(state)\n",
        "        train.append(metric)\n",
        "        \n",
        "    server.update_model(active_clients_models)\n",
        "    test.append(server.evaluate(com_round))\n",
        "    print(\"\\n\")\n",
        "    \n",
        "    if com_round % 5 == 0:\n",
        "        df_train = pd.DataFrame(train)\n",
        "        df_train.to_csv(f\"feddyn_train_{'iid' if iid else 'noniid'}_{'unbalanced' if unbalanced else 'balanced'}_{seed}.csv\", index=False)\n",
        "        df_test = pd.DataFrame(test)\n",
        "        df_test.to_csv(f\"feddyn_test__{'iid' if iid else 'noniid'}_{'unbalanced' if unbalanced else 'balanced'}_{seed}.csv\", index=False)"
      ]
    }
  ],
  "metadata": {
    "accelerator": "GPU",
    "colab": {
      "name": "notebook2b28261802 (2).ipynb",
      "provenance": []
    },
    "kernelspec": {
      "display_name": "Python 3",
      "language": "python",
      "name": "python3"
    },
    "language_info": {
      "codemirror_mode": {
        "name": "ipython",
        "version": 3
      },
      "file_extension": ".py",
      "mimetype": "text/x-python",
      "name": "python",
      "nbconvert_exporter": "python",
      "pygments_lexer": "ipython3",
      "version": "3.7.12"
    }
  },
  "nbformat": 4,
  "nbformat_minor": 0
}
