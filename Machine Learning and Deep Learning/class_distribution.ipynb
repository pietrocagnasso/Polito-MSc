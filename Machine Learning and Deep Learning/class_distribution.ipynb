{
 "cells": [
  {
   "cell_type": "code",
   "execution_count": null,
   "metadata": {},
   "outputs": [],
   "source": [
    "import torch\n",
    "import numpy as np\n",
    "import pandas as pd\n",
    "\n",
    "from models.resnet import ResNet50\n",
    "from utils.reproducibility import make_it_reproducible, seed_worker\n",
    "from utils.datasets import get_datasets\n",
    "from utils.sampling import get_user_groups\n",
    "\n",
    "import seaborn as sns\n",
    "import matplotlib.pyplot as plt"
   ]
  },
  {
   "cell_type": "code",
   "execution_count": null,
   "metadata": {},
   "outputs": [],
   "source": [
    "device = \"cuda\" if torch.cuda.is_available() else \"cpu\"\n",
    "tot_users = 100"
   ]
  },
  {
   "cell_type": "code",
   "execution_count": null,
   "metadata": {},
   "outputs": [],
   "source": [
    "# reproducibility\n",
    "seed = 0\n",
    "\n",
    "g = torch.Generator()"
   ]
  },
  {
   "cell_type": "code",
   "execution_count": null,
   "metadata": {},
   "outputs": [],
   "source": [
    "# datasets and loaders\n",
    "trainset, testset = get_datasets()"
   ]
  },
  {
   "cell_type": "code",
   "execution_count": null,
   "metadata": {},
   "outputs": [],
   "source": [
    "# iid balanced\n",
    "iid = True\n",
    "unbalanced = False\n",
    "\n",
    "make_it_reproducible(seed)\n",
    "g.manual_seed(seed)\n",
    "testloader = torch.utils.data.DataLoader(testset,\n",
    "                                     batch_size=128, shuffle=False, num_workers=2,\n",
    "                                     worker_init_fn=seed_worker, generator=g)\n",
    "user_groups, user_dict_cls_count = get_user_groups(trainset, iid=iid, unbalanced=unbalanced, tot_users=tot_users)\n",
    "labels = trainset.targets\n",
    "\n",
    "df = pd.DataFrame(user_dict_cls_count)\n",
    "m = df.count(axis=0)\n",
    "print(\"seen classes: \", m.mean(), \"+-\", m.std())  # 10.0 +- 0.0"
   ]
  },
  {
   "cell_type": "code",
   "execution_count": null,
   "metadata": {},
   "outputs": [],
   "source": [
    "df = df.transpose()\n",
    "df = df.stack().reset_index()\n",
    "df.columns = [\"client\", \"class\", \"count\"]\n",
    "df = df.astype({\"class\": str,})\n",
    "\n",
    "sns.set()\n",
    "sns.set_style(style=\"whitegrid\")\n",
    "sns.set_color_codes(\"colorblind\")\n",
    "\n",
    "fig, ax = plt.subplots(1, 1, figsize=(12, 6))\n",
    "fig.suptitle(f\"\"\"I.I.D. class distribution by client\n",
    "seen classes: {m.mean():} +- {m.std():.3}\"\"\")\n",
    "sns.histplot(data=df, x=\"client\", hue=\"class\", weights=\"count\", multiple=\"stack\", bins=tot_users, ax=ax)\n",
    "ax.set_xlim([-2, 109])\n",
    "plt.savefig(\"iid_class_distribution.pdf\", bbox_inches=\"tight\")"
   ]
  },
  {
   "cell_type": "code",
   "execution_count": null,
   "metadata": {},
   "outputs": [],
   "source": [
    "# non iid balanced\n",
    "iid = False\n",
    "unbalanced = False\n",
    "\n",
    "make_it_reproducible(seed)\n",
    "g.manual_seed(seed)\n",
    "testloader = torch.utils.data.DataLoader(testset,\n",
    "                                     batch_size=128, shuffle=False, num_workers=2,\n",
    "                                     worker_init_fn=seed_worker, generator=g)\n",
    "user_groups, user_dict_cls_count = get_user_groups(trainset, iid=iid, unbalanced=unbalanced, tot_users=tot_users)\n",
    "labels = trainset.targets\n",
    "\n",
    "df = pd.DataFrame(user_dict_cls_count)\n",
    "df.replace(0, np.nan, inplace=True)\n",
    "m = df.count(axis=0)\n",
    "print(\"seen classes: \", m.mean(), \"+-\", m.std())  # 1.94 +- 0.23868325657594203"
   ]
  },
  {
   "cell_type": "code",
   "execution_count": null,
   "metadata": {},
   "outputs": [],
   "source": [
    "df = df.transpose()\n",
    "df = df.stack().reset_index()\n",
    "df.columns = [\"client\", \"class\", \"count\"]\n",
    "df = df.astype({\"class\": str,})\n",
    "\n",
    "sns.set()\n",
    "sns.set_style(style=\"whitegrid\")\n",
    "sns.set_color_codes(\"colorblind\")\n",
    "\n",
    "fig, ax = plt.subplots(1, 1, figsize=(12, 5))\n",
    "fig.suptitle(f\"\"\"Non i.i.d. balanced class distribution by client\n",
    "seen classes: {m.mean()} +- {m.std():.3}\"\"\")\n",
    "sns.histplot(data=df, x=\"client\", hue=\"class\", weights=\"count\", multiple=\"stack\", bins=tot_users, ax=ax)\n",
    "ax.set_xlim([-2, 109])\n",
    "plt.savefig(\"noniid_balanced_class_distribution.pdf\", bbox_inches=\"tight\")"
   ]
  },
  {
   "cell_type": "code",
   "execution_count": null,
   "metadata": {},
   "outputs": [],
   "source": [
    "# non iid unbalanced\n",
    "iid = False\n",
    "unbalanced = True\n",
    "\n",
    "make_it_reproducible(seed)\n",
    "g.manual_seed(seed)\n",
    "testloader = torch.utils.data.DataLoader(testset,\n",
    "                                     batch_size=128, shuffle=False, num_workers=2,\n",
    "                                     worker_init_fn=seed_worker, generator=g)\n",
    "user_groups, user_dict_cls_count = get_user_groups(trainset, iid=iid, unbalanced=unbalanced, tot_users=tot_users)\n",
    "labels = trainset.targets\n",
    "\n",
    "df = pd.DataFrame(user_dict_cls_count)\n",
    "df.replace(0, np.nan, inplace=True)\n",
    "m = df.count(axis=0)\n",
    "print(\"seen classes: \", m.mean(), \"+-\", m.std())  # 1.84 +- 1.0609696346533988"
   ]
  },
  {
   "cell_type": "code",
   "execution_count": null,
   "metadata": {},
   "outputs": [],
   "source": [
    "df = df.transpose()\n",
    "df = df.stack().reset_index()\n",
    "df.columns = [\"client\", \"class\", \"count\"]\n",
    "df = df.astype({\"class\": str,})\n",
    "\n",
    "sns.set()\n",
    "sns.set_style(style=\"whitegrid\")\n",
    "sns.set_color_codes(\"colorblind\")\n",
    "\n",
    "fig, ax = plt.subplots(1, 1, figsize=(12, 5))\n",
    "fig.suptitle(f\"\"\"Non i.i.d. unbalanced class distribution by client\n",
    "seen classes: {m.mean()} +- {m.std():.3}\"\"\")\n",
    "sns.histplot(data=df, x=\"client\", hue=\"class\", weights=\"count\", multiple=\"stack\", bins=tot_users, ax=ax)\n",
    "ax.set_xlim([-2, 109])\n",
    "plt.savefig(\"noniid_unbalanced_class_distribution.pdf\", bbox_inches=\"tight\")"
   ]
  },
  {
   "cell_type": "code",
   "execution_count": null,
   "metadata": {},
   "outputs": [],
   "source": []
  }
 ],
 "metadata": {
  "kernelspec": {
   "display_name": "Python 3",
   "language": "python",
   "name": "python3"
  },
  "language_info": {
   "codemirror_mode": {
    "name": "ipython",
    "version": 3
   },
   "file_extension": ".py",
   "mimetype": "text/x-python",
   "name": "python",
   "nbconvert_exporter": "python",
   "pygments_lexer": "ipython3",
   "version": "3.8.8"
  }
 },
 "nbformat": 4,
 "nbformat_minor": 2
}
